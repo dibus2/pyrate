{
 "cells": [
  {
   "cell_type": "markdown",
   "metadata": {},
   "source": [
    "# This is Interactive PyR@TE"
   ]
  },
  {
   "cell_type": "markdown",
   "metadata": {},
   "source": [
    "### visit our hepforge page !"
   ]
  },
  {
   "cell_type": "code",
   "execution_count": 1,
   "metadata": {
    "collapsed": false
   },
   "outputs": [
    {
     "name": "stdout",
     "output_type": "stream",
     "text": [
      "Populating the interactive namespace from numpy and matplotlib\n"
     ]
    },
    {
     "data": {
      "text/html": [
       "<iframe src=http://pyrate.hepforge.org/?useformat=mobile width=700 height=350></iframe>"
      ],
      "text/plain": [
       "<IPython.core.display.HTML object>"
      ]
     },
     "execution_count": 1,
     "metadata": {},
     "output_type": "execute_result"
    }
   ],
   "source": [
    "%pylab inline\n",
    "\n",
    "%config InlineBackend.figure_format = 'svg'\n",
    "\n",
    "from IPython.display import HTML\n",
    "\n",
    "HTML('<iframe src=http://pyrate.hepforge.org/?useformat=mobile width=700 height=350></iframe>')\n"
   ]
  },
  {
   "cell_type": "markdown",
   "metadata": {},
   "source": [
    "## 1. Run the code :"
   ]
  },
  {
   "cell_type": "markdown",
   "metadata": {},
   "source": [
    "### 1.1 command line"
   ]
  },
  {
   "cell_type": "code",
   "execution_count": 2,
   "metadata": {
    "collapsed": false
   },
   "outputs": [
    {
     "name": "stdout",
     "output_type": "stream",
     "text": [
      "/Users/florian/Documents/work/Projects/Pyrate/git/pyrate/pyrate-2.0.0\n"
     ]
    }
   ],
   "source": [
    "%cd ../"
   ]
  },
  {
   "cell_type": "code",
   "execution_count": 3,
   "metadata": {
    "collapsed": false
   },
   "outputs": [
    {
     "name": "stdout",
     "output_type": "stream",
     "text": [
      "\n",
      "\n",
      "\n",
      "\n",
      "\t\t==================================================================================\n",
      "\n",
      "\t\t\t\tPyR@TE version 2.0.0  released  August 25th 2016\n",
      "\n",
      "\t\t\tF. Lyonnet, I. Schienbein,\n",
      "\n",
      "\t\t\tand F.Staub, A.Wingerter (version 1)\n",
      "\t\t\tPlease cite: arXiv:1309.7030 and arXiv:1608.\n",
      "\t\t==================================================================================\n",
      "\n",
      "\n",
      "Validating the model...\n",
      "\t\t...done\n",
      "Processing the model...\n",
      "\t\t...done\n",
      "Creating the instance of the Model: SM, 11.04.2013, by Florian Lyonnet...done"
     ]
    },
    {
     "name": "stderr",
     "output_type": "stream",
     "text": [
      "CRITICAL:root:Creating the instance of the Model: SM, 11.04.2013, by Florian Lyonnet...done\n",
      "CRITICAL:root: \t\t...Calculation done.\n"
     ]
    },
    {
     "name": "stdout",
     "output_type": "stream",
     "text": [
      "\n",
      " \t\t...Calculation done.\n",
      "\"\n",
      "Error in the LateX export, skipping. Contact the authors"
     ]
    },
    {
     "name": "stderr",
     "output_type": "stream",
     "text": [
      "CRITICAL:root:\"\n",
      "Error in the LateX export, skipping. Contact the authors\n"
     ]
    },
    {
     "name": "stdout",
     "output_type": "stream",
     "text": [
      "\n",
      "End of the run."
     ]
    },
    {
     "name": "stderr",
     "output_type": "stream",
     "text": [
      "CRITICAL:root:End of the run.\n"
     ]
    },
    {
     "name": "stdout",
     "output_type": "stream",
     "text": [
      "\n"
     ]
    }
   ],
   "source": [
    "%run pyR@TE.py -m models/SM.model -gc"
   ]
  },
  {
   "cell_type": "markdown",
   "metadata": {},
   "source": [
    "Note that the verbose is minimum, use -v to increase it"
   ]
  },
  {
   "cell_type": "markdown",
   "metadata": {},
   "source": [
    "### 1.2 Using a .settings file "
   ]
  },
  {
   "cell_type": "code",
   "execution_count": 4,
   "metadata": {
    "collapsed": false
   },
   "outputs": [],
   "source": [
    "#load the pretty printing of sympy \n",
    "from sympy import init_printing\n",
    "init_printing(use_latex=True)"
   ]
  },
  {
   "cell_type": "code",
   "execution_count": 5,
   "metadata": {
    "collapsed": false
   },
   "outputs": [
    {
     "name": "stdout",
     "output_type": "stream",
     "text": [
      "\n",
      "\n",
      "\n",
      "\n",
      "\t\t==================================================================================\n",
      "\n",
      "\t\t\t\tPyR@TE version 2.0.0  released  August 25th 2016\n",
      "\n",
      "\t\t\tF. Lyonnet, I. Schienbein,\n",
      "\n",
      "\t\t\tand F.Staub, A.Wingerter (version 1)\n",
      "\t\t\tPlease cite: arXiv:1309.7030 and arXiv:1608.\n",
      "\t\t==================================================================================\n",
      "\n",
      "\n",
      "Starting a new run ...\n",
      "Run Settings :\n",
      "\t\tvInfo: True\n",
      "\t\tverbose: True\n",
      "\t\tSetGutNorm: False\n",
      "\t\tGauge-Couplings: True\n",
      "\t\tLatexOutput: False\n",
      "\t\tOnly: []\n",
      "\t\tLogFile: SM.log\n",
      "\t\tExportFile: BetaFunction.py\n",
      "\t\tPickleFile: RGEsOutput.pickle\n",
      "\t\tvDebug: False\n",
      "\t\tLogLevel: Info\n",
      "\t\tAll-Contributions: False\n",
      "\t\tSettings: docs/RunDemo.settings\n",
      "\t\tYukawas: True\n",
      "\t\tToM: False\n",
      "\t\tFermionMass: False\n",
      "\t\tFermionAnomalous: False\n",
      "\t\tinteractivedb: False\n",
      "\t\tTrilinear: False\n",
      "\t\tKinMix: True\n",
      "\t\tWeyl: True\n",
      "\t\tModel: ./models/SM.model\n",
      "\t\tPickle: False\n",
      "\t\tToMF: SM.txt\n",
      "\t\tVerboseLevel: \n",
      "\t\tQuartic-Couplings: False\n",
      "\t\tSkip: ['']\n",
      "\t\tvCritical: True\n",
      "\t\tResults: /Users/florian/Documents/work/Projects/Pyrate/git/pyrate/pyrate-2.0.0/results/demo\n",
      "\t\tScalarAnomalous: False\n",
      "\t\tTwo-Loop: False\n",
      "\t\tExport: False\n",
      "\t\tScalarMass: False\n",
      "\t\tLatexFile: RGEsOutput.tex\n",
      "Loading the YAML file: ./models/SM.model ... done\n",
      "Importing modules ...\n",
      "\t\t...done\n",
      "Validating the model...\n",
      "\t\t...done\n",
      "Processing the model...\n",
      "\t\t...done\n",
      "Creating the instance of the Model: SM, 11.04.2013, by Florian Lyonnet...done"
     ]
    },
    {
     "name": "stderr",
     "output_type": "stream",
     "text": [
      "CRITICAL:root:Creating the instance of the Model: SM, 11.04.2013, by Florian Lyonnet...done\n"
     ]
    },
    {
     "name": "stdout",
     "output_type": "stream",
     "text": [
      "\n",
      "Starting the Calculation...\n",
      "\n",
      "\t\t... with option --Gauge-Couplings\n",
      "\t\t... with option --Yukawas\n",
      "\t\tGauge-Couplings calculation, Group SU2L ...\n",
      "\t\t\t Applying Eq. 106...done\n",
      "\t\t\t Applying Eq. 107...done\n",
      "\t\tGauge-Couplings calculation, Group U1 ...\n",
      "\t\t\t Applying Eq. 106...done\n",
      "\t\t\t Applying Eq. 107...done\n",
      "\t\tGauge-Couplings calculation, Group SU3c ...\n",
      "\t\t\t Applying Eq. 106...done\n",
      "\t\t\t Applying Eq. 107...done\n",
      "\t\t...Gauge-Couplings calculation done.\n",
      "\t\tParameter Y_{u}...\n",
      "\t\t\t Calculating the CYuk term ...\n",
      "\t\t\t\t\t ...done\n",
      "\t\t\t Calculating the CYukGauge term ...\n",
      "\t\t\t\t\t ...done\n",
      "\t\t Compiling the results for the Yukawa...done\n",
      "\t\tParameter Y_{e}...\n",
      "\t\t\t Calculating the CYuk term ...\n",
      "\t\t\t\t\t ...done\n",
      "\t\t\t Calculating the CYukGauge term ...\n",
      "\t\t\t\t\t ...done\n",
      "\t\t Compiling the results for the Yukawa...done\n",
      "\t\tParameter Y_{d}...\n",
      "\t\t\t Calculating the CYuk term ...\n",
      "\t\t\t\t\t ...done\n",
      "\t\t\t Calculating the CYukGauge term ...\n",
      "\t\t\t\t\t ...done\n",
      "\t\t Compiling the results for the Yukawa...done"
     ]
    },
    {
     "name": "stderr",
     "output_type": "stream",
     "text": [
      "CRITICAL:root: \t\t...Calculation done.\n"
     ]
    },
    {
     "name": "stdout",
     "output_type": "stream",
     "text": [
      "\n",
      " \t\t...Calculation done.\n",
      "End of the run."
     ]
    },
    {
     "name": "stderr",
     "output_type": "stream",
     "text": [
      "CRITICAL:root:End of the run.\n"
     ]
    },
    {
     "name": "stdout",
     "output_type": "stream",
     "text": [
      "\n"
     ]
    }
   ],
   "source": [
    "%run pyR@TE.py -f docs/RunDemo.settings"
   ]
  },
  {
   "cell_type": "markdown",
   "metadata": {},
   "source": [
    "### 2. Examine the results"
   ]
  },
  {
   "cell_type": "markdown",
   "metadata": {},
   "source": [
    "All the results are stored in RGEs, a list of dictionnary :"
   ]
  },
  {
   "cell_type": "code",
   "execution_count": 6,
   "metadata": {
    "collapsed": false
   },
   "outputs": [
    {
     "data": {
      "text/plain": [
       "[{'SU2L': -19*g_SU2L**3/(96*pi**2),\n",
       "  'SU3c': -7*g_SU3c**3/(16*pi**2),\n",
       "  'U1': 41*g1**3/(96*pi**2)},\n",
       " {'Y_{d}': -5*g1**2*Y_{d}(Qbar_f, dR_f)/(192*pi**2) - 9*g_SU2L**2*Y_{d}(Qbar_f, dR_f)/(64*pi**2) - g_SU3c**2*Y_{d}(Qbar_f, dR_f)/(2*pi**2) + 3*trace(Y_d, adjoint(Y_d))*Y_{d}(Qbar_f, dR_f)/(16*pi**2) + trace(Y_e, adjoint(Y_e))*Y_{d}(Qbar_f, dR_f)/(16*pi**2) + 3*trace(Y_u, adjoint(Y_u))*Y_{d}(Qbar_f, dR_f)/(16*pi**2) + 3*MatM((Y_d, adjoint(Y_d), Y_d), Qbar_f, dR_f)/(32*pi**2) - 3*MatM((Y_u, adjoint(Y_u), Y_d), Qbar_f, dR_f)/(32*pi**2),\n",
       "  'Y_{e}': -15*g1**2*Y_{e}(Lbar_f, eR_f)/(64*pi**2) - 9*g_SU2L**2*Y_{e}(Lbar_f, eR_f)/(64*pi**2) + 3*trace(Y_d, adjoint(Y_d))*Y_{e}(Lbar_f, eR_f)/(16*pi**2) + trace(Y_e, adjoint(Y_e))*Y_{e}(Lbar_f, eR_f)/(16*pi**2) + 3*trace(Y_u, adjoint(Y_u))*Y_{e}(Lbar_f, eR_f)/(16*pi**2) + 3*MatM((Y_e, adjoint(Y_e), Y_e), Lbar_f, eR_f)/(32*pi**2),\n",
       "  'Y_{u}': -17*g1**2*Y_{u}(Qbar_f, uR_f)/(192*pi**2) - 9*g_SU2L**2*Y_{u}(Qbar_f, uR_f)/(64*pi**2) - g_SU3c**2*Y_{u}(Qbar_f, uR_f)/(2*pi**2) + 3*trace(Y_d, adjoint(Y_d))*Y_{u}(Qbar_f, uR_f)/(16*pi**2) + trace(Y_e, adjoint(Y_e))*Y_{u}(Qbar_f, uR_f)/(16*pi**2) + 3*trace(Y_u, adjoint(Y_u))*Y_{u}(Qbar_f, uR_f)/(16*pi**2) - 3*MatM((Y_d, adjoint(Y_d), Y_u), Qbar_f, uR_f)/(32*pi**2) + 3*MatM((Y_u, adjoint(Y_u), Y_u), Qbar_f, uR_f)/(32*pi**2)}]"
      ]
     },
     "execution_count": 6,
     "metadata": {},
     "output_type": "execute_result"
    }
   ],
   "source": [
    "RGEs"
   ]
  },
  {
   "cell_type": "markdown",
   "metadata": {},
   "source": [
    "Note that Qbarf,dRf represents the generation indices of Qbarf,dRf respectively"
   ]
  },
  {
   "cell_type": "markdown",
   "metadata": {},
   "source": [
    "The different results are accessed via their key, to get a list of all the keys of a dictionary the method keys() can be called"
   ]
  },
  {
   "cell_type": "code",
   "execution_count": 7,
   "metadata": {
    "collapsed": false
   },
   "outputs": [
    {
     "data": {
      "text/plain": [
       "[['SU2L', 'U1', 'SU3c'], ['Y_{u}', 'Y_{e}', 'Y_{d}']]"
      ]
     },
     "execution_count": 7,
     "metadata": {},
     "output_type": "execute_result"
    }
   ],
   "source": [
    "#List of keys\n",
    "Keys = [el.keys() for el in RGEs]\n",
    "Keys"
   ]
  },
  {
   "cell_type": "code",
   "execution_count": 8,
   "metadata": {
    "collapsed": false
   },
   "outputs": [
    {
     "data": {
      "image/png": "[encoded data removed]",
      "text/latex": [
       "$$- \\frac{5 g_{1}^{2}}{192 \\pi^{2}} \\operatorname{Y_{d}}{\\left (\\bar{Q}_{f},dR_{f} \\right )} - \\frac{9 g_{SU2L}^{2}}{64 \\pi^{2}} \\operatorname{Y_{d}}{\\left (\\bar{Q}_{f},dR_{f} \\right )} - \\frac{g_{SU3c}^{2}}{2 \\pi^{2}} \\operatorname{Y_{d}}{\\left (\\bar{Q}_{f},dR_{f} \\right )} + \\frac{3}{16 \\pi^{2}} \\operatorname{trace}{\\left (Y_{d},Y_{d}^{\\dagger} \\right )} \\operatorname{Y_{d}}{\\left (\\bar{Q}_{f},dR_{f} \\right )} + \\frac{\\operatorname{trace}{\\left (Y_{e},Y_{e}^{\\dagger} \\right )}}{16 \\pi^{2}} \\operatorname{Y_{d}}{\\left (\\bar{Q}_{f},dR_{f} \\right )} + \\frac{3}{16 \\pi^{2}} \\operatorname{trace}{\\left (Y_{u},Y_{u}^{\\dagger} \\right )} \\operatorname{Y_{d}}{\\left (\\bar{Q}_{f},dR_{f} \\right )} + \\frac{3}{32 \\pi^{2}} \\operatorname{MatM}{\\left (\\left ( Y_{d}, \\quad Y_{d}^{\\dagger}, \\quad Y_{d}\\right ),\\bar{Q}_{f},dR_{f} \\right )} - \\frac{3}{32 \\pi^{2}} \\operatorname{MatM}{\\left (\\left ( Y_{u}, \\quad Y_{u}^{\\dagger}, \\quad Y_{d}\\right ),\\bar{Q}_{f},dR_{f} \\right )}$$"
      ],
      "text/plain": [
       "      2                             2                           2             \n",
       "  5⋅g₁ ⋅Y_{d}(Q̅_f, dR_f)   9⋅g_SU2L ⋅Y_{d}(Q̅_f, dR_f)   g_SU3c ⋅Y_{d}(Q̅_f, \n",
       "- ─────────────────────── - ─────────────────────────── - ────────────────────\n",
       "                2                          2                            2     \n",
       "           192⋅π                       64⋅π                          2⋅π      \n",
       "\n",
       "               ⎛        †⎞                          ⎛      †⎞                 \n",
       "dR_f)   3⋅trace⎝Y_d, Y_d ⎠⋅Y_{d}(Q̅_f, dR_f)   trace⎝Yₑ, Yₑ ⎠⋅Y_{d}(Q̅_f, dR_f\n",
       "───── + ──────────────────────────────────── + ───────────────────────────────\n",
       "                           2                                    2             \n",
       "                       16⋅π                                 16⋅π              \n",
       "\n",
       "           ⎛      †⎞                           ⎛⎛        †     ⎞            ⎞ \n",
       ")   3⋅trace⎝Yᵤ, Yᵤ ⎠⋅Y_{d}(Q̅_f, dR_f)   3⋅MatM⎝⎝Y_d, Y_d , Y_d⎠, Q̅_f, dR_f⎠ \n",
       "─ + ────────────────────────────────── + ──────────────────────────────────── \n",
       "                      2                                     2                 \n",
       "                  16⋅π                                  32⋅π                  \n",
       "\n",
       "        ⎛⎛      †     ⎞            ⎞\n",
       "  3⋅MatM⎝⎝Yᵤ, Yᵤ , Y_d⎠, Q̅_f, dR_f⎠\n",
       "- ──────────────────────────────────\n",
       "                    2               \n",
       "                32⋅π                "
      ]
     },
     "execution_count": 8,
     "metadata": {},
     "output_type": "execute_result"
    }
   ],
   "source": [
    "#We can access the Y_d results for instance, first element of the list are the yukawa results\n",
    "Yd = RGEs[1]['Y_{d}']\n",
    "Yd"
   ]
  },
  {
   "cell_type": "markdown",
   "metadata": {},
   "source": [
    "Let's now have a look at the 1 loop beta function for the Y_u parameter and isolate powers of g**2"
   ]
  },
  {
   "cell_type": "code",
   "execution_count": 9,
   "metadata": {
    "collapsed": false
   },
   "outputs": [
    {
     "data": {
      "image/png": "[encoded data removed]",
      "text/latex": [
       "$$\\left ( - \\frac{17}{192 \\pi^{2}} \\operatorname{Y_{u}}{\\left (\\bar{Q}_{f},uR_{f} \\right )}, \\quad - \\frac{9}{64 \\pi^{2}} \\operatorname{Y_{u}}{\\left (\\bar{Q}_{f},uR_{f} \\right )}, \\quad - \\frac{\\operatorname{Y_{u}}{\\left (\\bar{Q}_{f},uR_{f} \\right )}}{2 \\pi^{2}}\\right )$$"
      ],
      "text/plain": [
       "⎛-17⋅Y_{u}(Q̅_f, uR_f)   -9⋅Y_{u}(Q̅_f, uR_f)   -Y_{u}(Q̅_f, uR_f) ⎞\n",
       "⎜──────────────────────, ─────────────────────, ───────────────────⎟\n",
       "⎜             2                      2                     2       ⎟\n",
       "⎝        192⋅π                   64⋅π                   2⋅π        ⎠"
      ]
     },
     "execution_count": 9,
     "metadata": {},
     "output_type": "execute_result"
    }
   ],
   "source": [
    "#Get the Y_u result\n",
    "Yu = RGEs[1]['Y_{u}']\n",
    "#Declare symbols for the gauge couplings to be able to do the matching \n",
    "g1,g2,g3 = symbols('g1 g_SU2L g_SU3c')\n",
    "#Collect the different power orders\n",
    "g1sq,g2sq,g3sq = Yu.coeff(g1**2),Yu.coeff(g2**2),Yu.coeff(g3**2)\n",
    "g1sq,g2sq,g3sq"
   ]
  },
  {
   "cell_type": "markdown",
   "metadata": {},
   "source": [
    "## 2. Producing Outputs using the Toolbox"
   ]
  },
  {
   "cell_type": "markdown",
   "metadata": {},
   "source": [
    "### 2.1 Save the Result into a pickle file for later use"
   ]
  },
  {
   "cell_type": "code",
   "execution_count": 10,
   "metadata": {
    "collapsed": false
   },
   "outputs": [],
   "source": [
    "#tl is a namespace that we use to avoid confusion\n",
    "import Toolbox as tl"
   ]
  },
  {
   "cell_type": "code",
   "execution_count": 11,
   "metadata": {
    "collapsed": false
   },
   "outputs": [
    {
     "name": "stdout",
     "output_type": "stream",
     "text": [
      "Dumping the results in a pickle file...\n",
      "\t\t...done\n"
     ]
    }
   ],
   "source": [
    "#For bookeeping purposes one can add a description as optional argument here \n",
    "tl.ExportToPickle('./results/demo/Demo.pickle', RGEs, model,description = 'Test file, containing the SM')"
   ]
  },
  {
   "cell_type": "markdown",
   "metadata": {},
   "source": [
    "### 2.2 Export the results into a LateX File "
   ]
  },
  {
   "cell_type": "code",
   "execution_count": 12,
   "metadata": {
    "collapsed": false
   },
   "outputs": [
    {
     "name": "stdout",
     "output_type": "stream",
     "text": [
      "Dumping the results in a pickle file...\n",
      "\t\t...done\n"
     ]
    }
   ],
   "source": [
    "#Note that alternatively one can right click on the Equation printed on the screen and click on Show Math as --> Tex command \n",
    "#This allows to save equations that have been modified in the notebook\n",
    "tl.ExportToPickle('./results/demo/Demo.tex', RGEs, model)"
   ]
  },
  {
   "cell_type": "markdown",
   "metadata": {},
   "source": [
    "### 2.3 Export to a Mathematica File"
   ]
  },
  {
   "cell_type": "code",
   "execution_count": 13,
   "metadata": {
    "collapsed": false
   },
   "outputs": [
    {
     "name": "stdout",
     "output_type": "stream",
     "text": [
      "writing a Mathematica txt file...\n",
      "\t\t...done\n"
     ]
    }
   ],
   "source": [
    "tl.ExportToMathematica('./results/demo/test.txt',RGEs,model)"
   ]
  },
  {
   "cell_type": "code",
   "execution_count": 14,
   "metadata": {
    "collapsed": false
   },
   "outputs": [
    {
     "name": "stdout",
     "output_type": "stream",
     "text": [
      "writing a Mathematica txt file...\n",
      "\t\t...done\n"
     ]
    }
   ],
   "source": [
    "#This can also be used to translate any expression as long as it is contained in a list of dictionary. For instance to get only the gaugecouplings one can do :\n",
    "tl.ExportToMathematica('./results/demo/test.OnlyGaugeCouplings.txt',[RGEs[0]],model)"
   ]
  },
  {
   "cell_type": "markdown",
   "metadata": {},
   "source": [
    "## 3. Load an existing result and compare it with the SM : "
   ]
  },
  {
   "cell_type": "code",
   "execution_count": 17,
   "metadata": {
    "collapsed": false
   },
   "outputs": [
    {
     "data": {
      "text/plain": [
       "'Test file, containing the SM'"
      ]
     },
     "execution_count": 17,
     "metadata": {},
     "output_type": "execute_result"
    }
   ],
   "source": [
    "#load the file we have just created\n",
    "SMDemo,description = tl.loadmodel('./results/demo/Demo.pickle')\n",
    "description"
   ]
  },
  {
   "cell_type": "code",
   "execution_count": 20,
   "metadata": {
    "collapsed": false
   },
   "outputs": [],
   "source": [
    "#Now we can do the difference of this result with the SM and see that we get zero\n",
    "#Load the SM\n",
    "SMres,SMdescription = tl.loadmodel('docs/SM.short.pickle')"
   ]
  },
  {
   "cell_type": "code",
   "execution_count": 21,
   "metadata": {
    "collapsed": false
   },
   "outputs": [
    {
     "data": {
      "text/plain": [
       "[['SU3c', [0], [0]],\n",
       " ['\\\\mu_1',\n",
       "  [-6*Lambda_1*mu_1 + 3*g1**2*mu_1/2 + 9*g_SU2L**2*mu_1/2 - 6*mu_1*trace(Y_d, adjoint(Y_d)) - 2*mu_1*trace(Y_e, adjoint(Y_e)) - 6*mu_1*trace(Y_u, adjoint(Y_u))],\n",
       "  [0]],\n",
       " ['Y_u', [0], [0]],\n",
       " ['U1', [0], [0]],\n",
       " ['\\\\Lambda_1',\n",
       "  [-12*Lambda_1**2 + 3*Lambda_1*g1**2 + 9*Lambda_1*g_SU2L**2 - 12*Lambda_1*trace(Y_d, adjoint(Y_d)) - 4*Lambda_1*trace(Y_e, adjoint(Y_e)) - 12*Lambda_1*trace(Y_u, adjoint(Y_u)) - 3*g1**4/4 - 3*g1**2*g_SU2L**2/2 - 9*g_SU2L**4/4 + 12*trace(Y_d, adjoint(Y_d), Y_d, adjoint(Y_d)) + 4*trace(Y_e, adjoint(Y_e), Y_e, adjoint(Y_e)) + 12*trace(Y_u, adjoint(Y_u), Y_u, adjoint(Y_u))],\n",
       "  [0]],\n",
       " ['Y_e', [0], [0]],\n",
       " ['Y_d', [0], [0]],\n",
       " ['\\\\gamma_{\\\\Sigma\\\\Pi,1,1}',\n",
       "  [-g1**2*xi/4 + 3*g1**2/4 - 3*g_SU2L**2*xi/4 + 9*g_SU2L**2/4 - 3*trace(Y_d, adjoint(Y_d)) - trace(Y_e, adjoint(Y_e)) - 3*trace(Y_u, adjoint(Y_u))],\n",
       "  [0]],\n",
       " ['SU2L', [0], [0]]]"
      ]
     },
     "execution_count": 21,
     "metadata": {},
     "output_type": "execute_result"
    }
   ],
   "source": [
    "#The CompareModels function can be called with two loaded model from pickle or directly using the name of the pickle\n",
    "res = tl.CompareModels(SMDemo,SMres)\n",
    "#res contains the different differences if one wants to have a look at it, the structure is : tag,1L,2L\n",
    "res"
   ]
  },
  {
   "cell_type": "code",
   "execution_count": 22,
   "metadata": {
    "collapsed": false
   },
   "outputs": [],
   "source": [
    "#As said above we can pass the files directly \n",
    "res2 = tl.CompareModels('./results/demo/Demo.pickle','docs/SM.short.pickle')"
   ]
  },
  {
   "cell_type": "code",
   "execution_count": 24,
   "metadata": {
    "collapsed": false
   },
   "outputs": [],
   "source": [
    "dem = tl.loadmodel('docs/Demo2.pickle')"
   ]
  },
  {
   "cell_type": "code",
   "execution_count": null,
   "metadata": {
    "collapsed": false
   },
   "outputs": [],
   "source": [
    "tl.CompareModels(dem,SMres)"
   ]
  },
  {
   "cell_type": "code",
   "execution_count": 25,
   "metadata": {
    "collapsed": false
   },
   "outputs": [],
   "source": [
    "#One can also add some rules for substitutions to carry out at the subtraction time e.g.\n",
    "#Here we produced a Demo2.pickle file in which the gauge couplings are named differently\n",
    "res3 = tl.CompareModels('docs/Demo2.pickle','docs/SM.short.pickle')\n",
    "res3withsubs = tl.CompareModels('docs/Demo2.pickle','docs/SM.short.pickle',[((Symbol('g_SU3'),Symbol('g_SU3c')),(Symbol('g_SU2'),Symbol('g_SU2L')))])"
   ]
  },
  {
   "cell_type": "markdown",
   "metadata": {},
   "source": [
    "We can see that in the first subtraction the Yukawas are not zero because the gauge couplings have different names. The substitutions in the second allow for a correct identification"
   ]
  },
  {
   "cell_type": "code",
   "execution_count": 32,
   "metadata": {
    "collapsed": false
   },
   "outputs": [
    {
     "data": {
      "text/plain": [
       "(['Y_u',\n",
       "  [-9*g_SU2**2*Y_u(Qbar_f, uR_f)/4 + 9*g_SU2L**2*Y_u(Qbar_f, uR_f)/4 - 8*g_SU3**2*Y_u(Qbar_f, uR_f) + 8*g_SU3c**2*Y_u(Qbar_f, uR_f)],\n",
       "  [0]],\n",
       " ['Y_u', [0], [0]])"
      ]
     },
     "execution_count": 32,
     "metadata": {},
     "output_type": "execute_result"
    }
   ],
   "source": [
    "res3[2], res3withsubs[2]"
   ]
  },
  {
   "cell_type": "markdown",
   "metadata": {},
   "source": [
    "## 4. Numerical Evaluation -- Restart Kernel"
   ]
  },
  {
   "cell_type": "markdown",
   "metadata": {},
   "source": [
    "### 4.1 Solving the RGEs"
   ]
  },
  {
   "cell_type": "code",
   "execution_count": 1,
   "metadata": {
    "collapsed": false,
    "scrolled": false
   },
   "outputs": [
    {
     "name": "stdout",
     "output_type": "stream",
     "text": [
      "/Users/florian/Documents/work/Projects/Pyrate/git/pyrate/pyrate-2.0.0\n",
      "\n",
      "\n",
      "\n",
      "\n",
      "\t\t==================================================================================\n",
      "\n",
      "\t\t\t\tPyR@TE version 2.0.0  released  August 25th 2016\n",
      "\n",
      "\t\t\tF. Lyonnet, I. Schienbein,\n",
      "\n",
      "\t\t\tand F.Staub, A.Wingerter (version 1)\n",
      "\t\t\tPlease cite: arXiv:1309.7030 and arXiv:1608.\n",
      "\t\t==================================================================================\n",
      "\n",
      "\n",
      "Starting a new run ...\n",
      "Run Settings :\n",
      "\t\tvInfo: True\n",
      "\t\tverbose: True\n",
      "\t\tSetGutNorm: False\n",
      "\t\tGauge-Couplings: True\n",
      "\t\tLatexOutput: False\n",
      "\t\tOnly: []\n",
      "\t\tLogFile: SM.log\n",
      "\t\tExportFile: BetaFunction.py\n",
      "\t\tPickleFile: RGEsOutput.pickle\n",
      "\t\tvDebug: False\n",
      "\t\tLogLevel: Info\n",
      "\t\tAll-Contributions: True\n",
      "\t\tSettings: docs/RunDemo.settings\n",
      "\t\tYukawas: True\n",
      "\t\tToM: False\n",
      "\t\tFermionMass: False\n",
      "\t\tFermionAnomalous: False\n",
      "\t\tinteractivedb: False\n",
      "\t\tTrilinear: False\n",
      "\t\tKinMix: True\n",
      "\t\tWeyl: True\n",
      "\t\tModel: ./models/SM.model\n",
      "\t\tPickle: False\n",
      "\t\tToMF: SM.txt\n",
      "\t\tVerboseLevel: \n",
      "\t\tQuartic-Couplings: False\n",
      "\t\tSkip: ['']\n",
      "\t\tvCritical: True\n",
      "\t\tResults: /Users/florian/Documents/work/Projects/Pyrate/git/pyrate/pyrate-2.0.0/results/demo\n",
      "\t\tScalarAnomalous: False\n",
      "\t\tTwo-Loop: False\n",
      "\t\tExport: False\n",
      "\t\tScalarMass: False\n",
      "\t\tLatexFile: RGEsOutput.tex\n",
      "Loading the YAML file: ./models/SM.model ... done\n",
      "Importing modules ...\n",
      "\t\t...done\n",
      "Validating the model...\n",
      "\t\t...done\n",
      "Processing the model...\n",
      "\t\t...done\n",
      "Creating the instance of the Model: SM, 11.04.2013, by Florian Lyonnet...done"
     ]
    },
    {
     "name": "stderr",
     "output_type": "stream",
     "text": [
      "CRITICAL:root:Creating the instance of the Model: SM, 11.04.2013, by Florian Lyonnet...done\n"
     ]
    },
    {
     "name": "stdout",
     "output_type": "stream",
     "text": [
      "\n",
      "Starting the Calculation...\n",
      "\n",
      "\t\t... with option --All-Contributions including\n",
      "\t\t\t\tGauge-Couplings\n",
      "\t\t\t\tYukawas\n",
      "\t\t\t\tScalarMasses\n",
      "\t\t\t\tQuarticTerms\n",
      "\t\t\t\tScalarAnomalous \n",
      "\t\tGauge-Couplings calculation, Group SU2L ...\n",
      "\t\t\t Applying Eq. 106...done\n",
      "\t\t\t Applying Eq. 107...done\n",
      "\t\tGauge-Couplings calculation, Group U1 ...\n",
      "\t\t\t Applying Eq. 106...done\n",
      "\t\t\t Applying Eq. 107...done\n",
      "\t\tGauge-Couplings calculation, Group SU3c ...\n",
      "\t\t\t Applying Eq. 106...done\n",
      "\t\t\t Applying Eq. 107...done\n",
      "\t\t...Gauge-Couplings calculation done.\n",
      "\t\tParameter Y_{u}...\n",
      "\t\t\t Calculating the CYuk term ...\n",
      "\t\t\t\t\t ...done\n",
      "\t\t\t Calculating the CYukGauge term ...\n",
      "\t\t\t\t\t ...done\n",
      "\t\t Compiling the results for the Yukawa...done\n",
      "\t\tParameter Y_{e}...\n",
      "\t\t\t Calculating the CYuk term ...\n",
      "\t\t\t\t\t ...done\n",
      "\t\t\t Calculating the CYukGauge term ...\n",
      "\t\t\t\t\t ...done\n",
      "\t\t Compiling the results for the Yukawa...done\n",
      "\t\tParameter Y_{d}...\n",
      "\t\t\t Calculating the CYuk term ...\n",
      "\t\t\t\t\t ...done\n",
      "\t\t\t Calculating the CYukGauge term ...\n",
      "\t\t\t\t\t ...done\n",
      "\t\t Compiling the results for the Yukawa...done\n",
      "\t\tScalar mass calculation, for parameter \\mu_1...\n",
      "\n",
      "\t\t\t Calculating the Cmeflabef term ...\n",
      "\t\t\t\t\t ...done\n",
      "\t\t\t Calculating the Chaefhbef term ...\n",
      "\t\t\t\t\t ...done\n",
      "\t\t\t Calculating the CLYab term ...\n",
      "\t\t\t\t\t ...done\n",
      "\t\t\t Calculating the CHab term ...\n",
      "\t\t\t\t\t ...done\n",
      "\t\t\t Calculating the CLSab term ...\n",
      "\t\t\t\t\t ...done\n",
      "\t\tQuartic-Couplings calculation, for parameter \\Lambda_1...\n",
      "\n",
      "\t\t\t Calculating the CLYabcd term ...\n",
      "\t\t\t\t\t ...done\n",
      "\t\t\t Calculating the CL2abcd term ...\n",
      "\t\t\t\t\t ...done\n",
      "\t\t\t Calculating the CHabcd term ...\n",
      "\t\t\t\t\t ...done\n",
      "\t\t\t Calculating the CLSabcd term ...\n",
      "\t\t\t\t\t ...done\n",
      "\t\t\t Calculating the CAabcd term ...\n",
      "\t\t\t\t\t ...done\n",
      "\t\tScalar anomalous dimension calculation, for combination \\gamma_{\\Sigma\\Pi,1,1}...\n",
      "\n",
      "\t\t\t Calculating the CY2ab term ...\n",
      "\t\t\t\t\t ...done\n",
      "\t\t\t Calculating the CScalarAnoI term ...\n",
      "\t\t\t\t\t ...done\n",
      "\t\t\tCompiling the results for the Scalar anomalous dimension terms"
     ]
    },
    {
     "name": "stderr",
     "output_type": "stream",
     "text": [
      "CRITICAL:root:WARNING, no fermion anomalous dimension to calculate\n",
      "CRITICAL:root: \t\t...Calculation done.\n"
     ]
    },
    {
     "name": "stdout",
     "output_type": "stream",
     "text": [
      "\n",
      "\t\tScalar anomalous dimension calculation, for combination \\gamma_{\\Sigma\\Pi,1,1}...\n",
      "\n",
      "\t\t\t Calculating the CY2ab term ...\n",
      "\t\t\t\t\t ...done\n",
      "\t\t\t Calculating the CScalarAnoI term ...\n",
      "\t\t\t\t\t ...done\n",
      "\t\t\tCompiling the results for the Scalar anomalous dimension terms\n",
      "WARNING, no fermion anomalous dimension to calculate\n",
      " \t\t...Calculation done.\n",
      "End of the run."
     ]
    },
    {
     "name": "stderr",
     "output_type": "stream",
     "text": [
      "CRITICAL:root:End of the run.\n"
     ]
    },
    {
     "name": "stdout",
     "output_type": "stream",
     "text": [
      "\n"
     ]
    }
   ],
   "source": [
    "#If we try to export the result of our current calculation it will not work because the rges are coupled and therefore\n",
    "#we need to calculate all of them at the same time. Therefore we recalculate it and add the -a option to have all of them calculated\n",
    "%cd ../\n",
    "%run pyR@TE.py -f docs/RunDemo.settings -a"
   ]
  },
  {
   "cell_type": "code",
   "execution_count": 4,
   "metadata": {
    "collapsed": true
   },
   "outputs": [],
   "source": [
    "import Toolbox as tl"
   ]
  },
  {
   "cell_type": "code",
   "execution_count": 5,
   "metadata": {
    "collapsed": false
   },
   "outputs": [
    {
     "data": {
      "text/plain": [
       "{'Y_{d}': -5*g1**2*Y_{d}(Qbar_f, dR_f)/(192*pi**2) - 9*g_SU2L**2*Y_{d}(Qbar_f, dR_f)/(64*pi**2) - g_SU3c**2*Y_{d}(Qbar_f, dR_f)/(2*pi**2) + 3*trace(Y_d, adjoint(Y_d))*Y_{d}(Qbar_f, dR_f)/(16*pi**2) + trace(Y_e, adjoint(Y_e))*Y_{d}(Qbar_f, dR_f)/(16*pi**2) + 3*trace(Y_u, adjoint(Y_u))*Y_{d}(Qbar_f, dR_f)/(16*pi**2) + 3*MatM((Y_d, adjoint(Y_d), Y_d), Qbar_f, dR_f)/(32*pi**2) - 3*MatM((Y_u, adjoint(Y_u), Y_d), Qbar_f, dR_f)/(32*pi**2),\n",
       " 'Y_{e}': -15*g1**2*Y_{e}(Lbar_f, eR_f)/(64*pi**2) - 9*g_SU2L**2*Y_{e}(Lbar_f, eR_f)/(64*pi**2) + 3*trace(Y_d, adjoint(Y_d))*Y_{e}(Lbar_f, eR_f)/(16*pi**2) + trace(Y_e, adjoint(Y_e))*Y_{e}(Lbar_f, eR_f)/(16*pi**2) + 3*trace(Y_u, adjoint(Y_u))*Y_{e}(Lbar_f, eR_f)/(16*pi**2) + 3*MatM((Y_e, adjoint(Y_e), Y_e), Lbar_f, eR_f)/(32*pi**2),\n",
       " 'Y_{u}': -17*g1**2*Y_{u}(Qbar_f, uR_f)/(192*pi**2) - 9*g_SU2L**2*Y_{u}(Qbar_f, uR_f)/(64*pi**2) - g_SU3c**2*Y_{u}(Qbar_f, uR_f)/(2*pi**2) + 3*trace(Y_d, adjoint(Y_d))*Y_{u}(Qbar_f, uR_f)/(16*pi**2) + trace(Y_e, adjoint(Y_e))*Y_{u}(Qbar_f, uR_f)/(16*pi**2) + 3*trace(Y_u, adjoint(Y_u))*Y_{u}(Qbar_f, uR_f)/(16*pi**2) - 3*MatM((Y_d, adjoint(Y_d), Y_u), Qbar_f, uR_f)/(32*pi**2) + 3*MatM((Y_u, adjoint(Y_u), Y_u), Qbar_f, uR_f)/(32*pi**2)}"
      ]
     },
     "execution_count": 5,
     "metadata": {},
     "output_type": "execute_result"
    }
   ],
   "source": [
    "RGEs[1]"
   ]
  },
  {
   "cell_type": "code",
   "execution_count": 6,
   "metadata": {
    "collapsed": false
   },
   "outputs": [
    {
     "name": "stdout",
     "output_type": "stream",
     "text": [
      "Exporting to python function...\n",
      "\t\t...done\n"
     ]
    }
   ],
   "source": [
    "#Now we can export the results using the ExportBetaFunction function from the toolbox (-e option also works)\n",
    "tl.ExportBetaFunction('./results/demo/BetaFunction.py',model)"
   ]
  },
  {
   "cell_type": "markdown",
   "metadata": {},
   "source": [
    "if we look in the results/demo directory we should see BetaFunction.py as well as BetaFunction_SolveRGEs.py. These files explain how to use BetaFunction.py to solve the rges. We give the details below.\n"
   ]
  },
  {
   "cell_type": "code",
   "execution_count": 7,
   "metadata": {
    "collapsed": false
   },
   "outputs": [
    {
     "name": "stdout",
     "output_type": "stream",
     "text": [
      "BetaFunction.py            BetaFunction.pyc           BetaFunction_SolveRGEs.py\r\n"
     ]
    }
   ],
   "source": [
    "ls results/demo"
   ]
  },
  {
   "cell_type": "code",
   "execution_count": 8,
   "metadata": {
    "collapsed": false
   },
   "outputs": [],
   "source": [
    "#The RGEclass should be loaded\n",
    "import RGEclass as rgecls\n",
    "#The BetaFunction.py must be loaded also but it is in the resuls/demo directory which is not in the path \n",
    "#Add the result path\n",
    "sys.path.append('./results/demo/')\n",
    "from BetaFunction import beta_function_SM as bSM"
   ]
  },
  {
   "cell_type": "markdown",
   "metadata": {},
   "source": [
    "In order to create an object of the rgecls class and then solve the rges one needs to know how many equations are there and in which order they have be written in the BetaFunction.py file. First solution is to look directly into this file. Second solution is to look at the BetaFunction_SolveRGEs.py file where everything has been declared automatically and to copy the information here"
   ]
  },
  {
   "cell_type": "code",
   "execution_count": 9,
   "metadata": {
    "collapsed": false
   },
   "outputs": [],
   "source": [
    "#Create an instance of the RGE class\n",
    "rge = rgecls.RGE(bSM,32,labels=['betaYu[0,0]', 'betaYu[0,1]', 'betaYu[0,2]', 'betaYu[1,0]', 'betaYu[1,1]',\n",
    "                                'betaYu[1,2]', 'betaYu[2,0]', 'betaYu[2,1]', 'betaYu[2,2]', 'betaYe[0,0]',\n",
    "                                'betaYe[0,1]', 'betaYe[0,2]', 'betaYe[1,0]', 'betaYe[1,1]', 'betaYe[1,2]',\n",
    "                                'betaYe[2,0]', 'betaYe[2,1]', 'betaYe[2,2]', 'betaYd[0,0]', 'betaYd[0,1]',\n",
    "                                'betaYd[0,2]', 'betaYd[1,0]', 'betaYd[1,1]', 'betaYd[1,2]', 'betaYd[2,0]',\n",
    "                                'betaYd[2,1]', 'betaYd[2,2]', 'bg_SU2', 'bg1', 'bg_SU3', 'bLambda1', 'bmu1'])\n",
    "#note that the labels have to correspond to the ordering of the beta functions in BetaFunction.py"
   ]
  },
  {
   "cell_type": "code",
   "execution_count": 10,
   "metadata": {
    "collapsed": false
   },
   "outputs": [
    {
     "name": "stdout",
     "output_type": "stream",
     "text": [
      "\"\"\"\r\n",
      "This Code is generated automatically by pyR@TE, 2016-8-25\t 14:12:27 for the model : SM\r\n",
      "\"\"\"\r\n",
      "from __future__ import division\r\n",
      "import numpy as np\r\n",
      "def beta_function_SM(t,y,Assumptions={'two-loop':False,'diag': True}):\r\n",
      "\t#The Assumption can be used to incorporate some switch in the calculation\r\n",
      "\tkappa = 1./(16*np.pi**2)\r\n",
      "\tId0 = np.eye(3)\r\n",
      "\tId1 = np.eye(3)\r\n",
      "\tId2 = np.eye(3)\r\n",
      "\tYu = np.matrix(np.zeros((3,3)))\r\n",
      "\tYu[0,0] = y[0]\r\n",
      "\tYu[0,1] = y[1]\r\n",
      "\tYu[0,2] = y[2]\r\n",
      "\tYu[1,0] = y[3]\r\n",
      "\tYu[1,1] = y[4]\r\n",
      "\tYu[1,2] = y[5]\r\n",
      "\tYu[2,0] = y[6]\r\n",
      "\tYu[2,1] = y[7]\r\n",
      "\tYu[2,2] = y[8]\r\n",
      "\tYe = np.matrix(np.zeros((3,3)))\r\n",
      "\tYe[0,0] = y[9]\r\n",
      "\tYe[0,1] = y[10]\r\n",
      "\tYe[0,2] = y[11]\r\n",
      "\tYe[1,0] = y[12]\r\n",
      "\tYe[1,1] = y[13]\r\n",
      "\tYe[1,2] = y[14]\r\n",
      "\tYe[2,0] = y[15]\r\n",
      "\tYe[2,1] = y[16]\r\n",
      "\tYe[2,2] = y[17]\r\n",
      "\tYd = np.matrix(np.zeros((3,3)))\r\n",
      "\tYd[0,0] = y[18]\r\n",
      "\tYd[0,1] = y[19]\r\n",
      "\tYd[0,2] = y[20]\r\n",
      "\tYd[1,0] = y[21]\r\n",
      "\tYd[1,1] = y[22]\r\n",
      "\tYd[1,2] = y[23]\r\n",
      "\tYd[2,0] = y[24]\r\n",
      "\tYd[2,1] = y[25]\r\n",
      "\tYd[2,2] = y[26]\r\n",
      "\t###############\r\n",
      "\t#beta functions\r\n",
      "\t###############\r\n",
      "\t#This is the mapping between rges and y[i]\r\n",
      "\t#{'mu1': 31, 'g1': 28, 'Y_{e}': (9, 17), 'Y_{d}': (18, 26), 'gSU3c': 29, 'Y_{u}': (0, 8), 'gSU2L': 27, 'Lambda1': 30}\r\n",
      "\tbLambda1 = (12*y[30]**2 - 3*y[30]*y[28]**2 - 9*y[30]*y[27]**2 + 12*y[30]*np.trace(Yd* np.transpose(np.conjugate(Yd))) + 4*y[30]*np.trace(Ye* np.transpose(np.conjugate(Ye))) + 12*y[30]*np.trace(Yu* np.transpose(np.conjugate(Yu))) + 3*y[28]**4/4 + 3*y[28]**2*y[27]**2/2 + 9*y[27]**4/4 - 12*np.trace(Yd* np.transpose(np.conjugate(Yd))* Yd* np.transpose(np.conjugate(Yd))) - 4*np.trace(Ye* np.transpose(np.conjugate(Ye))* Ye* np.transpose(np.conjugate(Ye))) - 12*np.trace(Yu* np.transpose(np.conjugate(Yu))* Yu* np.transpose(np.conjugate(Yu))))*kappa\r\n",
      "\tbgSU2L = (-19*y[27]**3/6)*kappa\r\n",
      "\tbg1 = (41*y[28]**3/6)*kappa\r\n",
      "\tbgSU3c = (-7*y[29]**3)*kappa\r\n",
      "\tbetaYu = (-17*y[28]**2*Yu/12 - 9*y[27]**2*Yu/4 - 8*y[29]**2*Yu + 3*Id0*np.trace(Yd* np.transpose(np.conjugate(Yd)))*Yu + Id0*np.trace(Ye* np.transpose(np.conjugate(Ye)))*Yu + 3*Id0*np.trace(Yu* np.transpose(np.conjugate(Yu)))*Yu - 3*(Yd* np.transpose(np.conjugate(Yd))* Yu)/2 + 3*(Yu* np.transpose(np.conjugate(Yu))* Yu)/2)*kappa\r\n",
      "\tbetaYe = (-15*y[28]**2*Ye/4 - 9*y[27]**2*Ye/4 + 3*Id1*np.trace(Yd* np.transpose(np.conjugate(Yd)))*Ye + Id1*np.trace(Ye* np.transpose(np.conjugate(Ye)))*Ye + 3*Id1*np.trace(Yu* np.transpose(np.conjugate(Yu)))*Ye + 3*(Ye* np.transpose(np.conjugate(Ye))* Ye)/2)*kappa\r\n",
      "\tbetaYd = (-5*y[28]**2*Yd/12 - 9*y[27]**2*Yd/4 - 8*y[29]**2*Yd + 3*Id2*np.trace(Yd* np.transpose(np.conjugate(Yd)))*Yd + Id2*np.trace(Ye* np.transpose(np.conjugate(Ye)))*Yd + 3*Id2*np.trace(Yu* np.transpose(np.conjugate(Yu)))*Yd + 3*(Yd* np.transpose(np.conjugate(Yd))* Yd)/2 - 3*(Yu* np.transpose(np.conjugate(Yu))* Yd)/2)*kappa\r\n",
      "\tbmu1 = (6*y[30]*y[31] - 3*y[31]*y[28]**2/2 - 9*y[31]*y[27]**2/2 + 6*y[31]*np.trace(Yd* np.transpose(np.conjugate(Yd))) + 2*y[31]*np.trace(Ye* np.transpose(np.conjugate(Ye))) + 6*y[31]*np.trace(Yu* np.transpose(np.conjugate(Yu))))*kappa\r\n",
      "\tif Assumptions['two-loop']:\r\n",
      "\t\tbLambda1 = bLambda1 + (0)*kappa**2\r\n",
      "\t\tbgSU2L = bgSU2L + (0)*kappa**2\r\n",
      "\t\tbg1 = bg1 + (0)*kappa**2\r\n",
      "\t\tbgSU3c = bgSU3c + (0)*kappa**2\r\n",
      "\t\tbetaYu = betaYu + (0)*kappa**2\r\n",
      "\t\tbetaYe = betaYe + (0)*kappa**2\r\n",
      "\t\tbetaYd = betaYd + (0)*kappa**2\r\n",
      "\t\tbmu1 = bmu1 + (0)*kappa**2\r\n",
      "\tif Assumptions['diag'] :\r\n",
      "\t\treturn [betaYu[0,0], 0,0,0,betaYu[1,1], 0,0,0,betaYu[2,2], betaYe[0,0], 0,0,0,betaYe[1,1], 0,0,0,betaYe[2,2], betaYd[0,0], 0,0,0,betaYd[1,1], 0,0,0,betaYd[2,2], bgSU2L, bg1, bgSU3c, bLambda1, bmu1]\r\n",
      "\telse :\r\n",
      "\t\treturn [betaYu[0,0], betaYu[0,1], betaYu[0,2], betaYu[1,0], betaYu[1,1], betaYu[1,2], betaYu[2,0], betaYu[2,1], betaYu[2,2], betaYe[0,0], betaYe[0,1], betaYe[0,2], betaYe[1,0], betaYe[1,1], betaYe[1,2], betaYe[2,0], betaYe[2,1], betaYe[2,2], betaYd[0,0], betaYd[0,1], betaYd[0,2], betaYd[1,0], betaYd[1,1], betaYd[1,2], betaYd[2,0], betaYd[2,1], betaYd[2,2], bgSU2L, bg1, bgSU3c, bLambda1, bmu1]\r\n",
      "\r\n",
      "\r\n",
      "\r\n",
      "#rge = RGE(beta_function_SM,32,labels=['betaYu[0,0]', 'betaYu[0,1]', 'betaYu[0,2]', 'betaYu[1,0]', 'betaYu[1,1]', 'betaYu[1,2]', 'betaYu[2,0]', 'betaYu[2,1]', 'betaYu[2,2]', 'betaYe[0,0]', 'betaYe[0,1]', 'betaYe[0,2]', 'betaYe[1,0]', 'betaYe[1,1]', 'betaYe[1,2]', 'betaYe[2,0]', 'betaYe[2,1]', 'betaYe[2,2]', 'betaYd[0,0]', 'betaYd[0,1]', 'betaYd[0,2]', 'betaYd[1,0]', 'betaYd[1,1]', 'betaYd[1,2]', 'betaYd[2,0]', 'betaYd[2,1]', 'betaYd[2,2]', 'bgSU2L', 'bg1', 'bgSU3c', 'bLambda1', 'bmu1'])\r\n"
     ]
    }
   ],
   "source": [
    "%cat results/demo/BetaFunction.py"
   ]
  },
  {
   "cell_type": "code",
   "execution_count": 11,
   "metadata": {
    "collapsed": false
   },
   "outputs": [],
   "source": [
    "#Set the initial values, here we use the SM values predefine in the RGE class\n",
    "lbd0 = 0.07\n",
    "mu0 = -lbd0*rge.vev**2\n",
    "#Initial all the values to zero and modify the one we want to be different\n",
    "Y0 = [0]*32\n",
    "#Up diagonal Yukawas\n",
    "Y0[0],Y0[4],Y0[8]=rge.yU[0],rge.yU[1],rge.yU[2]\n",
    "#Down diagonal Yukawas\n",
    "Y0[9],Y0[13],Y0[17]=rge.yD[0],rge.yD[1],rge.yD[2]\n",
    "#Gauge Couplings\n",
    "Y0[-4],Y0[-5],Y0[-3]=rge.g10,rge.g20,rge.g30\n",
    "#lambda and mu1\n",
    "Y0[-2],Y0[-1] = lbd0,mu0\n",
    "rge.Y0 = Y0"
   ]
  },
  {
   "cell_type": "code",
   "execution_count": 12,
   "metadata": {
    "collapsed": false
   },
   "outputs": [],
   "source": [
    "#Set initial and final values for the scale directly e.g. Mz to 10**16 (same as initial values)\n",
    "tmin,tmax,tstep = np.log10(rge.Mz),19,0.8\n",
    "#By default the assumptions is set to 'two-loop':True,'diag':True which means that the two loop equations are used if provided and Yukawas are diagonal\n",
    "rge.solve_rges(tmin,tmax,tstep,assumptions={'two-loop': False,'diag': False})#Assumptions is here for customize purposes, see BetaFunction_SolveRGEs.py "
   ]
  },
  {
   "cell_type": "code",
   "execution_count": 13,
   "metadata": {
    "collapsed": false
   },
   "outputs": [
    {
     "data": {
      "text/plain": [
       "array([ 0.02884187, -0.00683715, -0.03796777, -0.06524473, -0.08920488,\n",
       "       -0.1102756 , -0.1288058 , -0.14508651, -0.15936478, -0.17185337])"
      ]
     },
     "execution_count": 13,
     "metadata": {},
     "output_type": "execute_result"
    }
   ],
   "source": [
    "#Now we can acces all the results via rge.Sol\n",
    "rge.Sol['bLambda1'][:10]#ten first points of lambda(t)"
   ]
  },
  {
   "cell_type": "markdown",
   "metadata": {},
   "source": [
    "### 4.2 Plotting the results"
   ]
  },
  {
   "cell_type": "markdown",
   "metadata": {},
   "source": [
    "We plot the inverse of the gauge couplings normalized to $4\\pi$ obtained above."
   ]
  },
  {
   "cell_type": "code",
   "execution_count": 14,
   "metadata": {
    "collapsed": false
   },
   "outputs": [
    {
     "name": "stdout",
     "output_type": "stream",
     "text": [
      "Populating the interactive namespace from numpy and matplotlib\n"
     ]
    },
    {
     "name": "stderr",
     "output_type": "stream",
     "text": [
      "WARNING: pylab import has clobbered these variables: ['Polygon', 'cbrt', 'cosh', 'poly', 'sign', 'flatten', 'conjugate', 'diff', 'Circle', 'tan', 'roots', 'plot', 'ones', 'eye', 'trace', 'floor', 'diag', 'invert', 'nan', 'sqrt', 'source', 'add', 'zeros', 'take', 'var', 'prod', 'plotting', 'product', 'seterr', 'power', 'multinomial', 'transpose', 'test', 'beta', 'sinh', 'vectorize', 'copy', 'sinc', 'log', 'cos', 'pi', 'tanh', 'f', 'det', 'sin', 'binomial', 'solve', 'mod', 'reshape', 'exp', 'trunc', 'gamma', 'interactive']\n",
      "`%matplotlib` prevents importing * from pylab and numpy\n"
     ]
    }
   ],
   "source": [
    "%pylab inline"
   ]
  },
  {
   "cell_type": "code",
   "execution_count": 15,
   "metadata": {
    "collapsed": false
   },
   "outputs": [
    {
     "data": {
      "text/plain": [
       "array([ 0.35775334,  0.35934904,  0.36096629,  0.36260557,  0.36426739,\n",
       "        0.36595227,  0.36766074,  0.36939338,  0.37115074,  0.37293342,\n",
       "        0.37474204,  0.37657723,  0.37843965,  0.38032998,  0.38224892,\n",
       "        0.3841972 ,  0.38617558,  0.38818485,  0.3902258 ,  0.39229929,\n",
       "        0.39440618,  0.3965474 ,  0.39872386,  0.40093657,  0.40318652,\n",
       "        0.40547478,  0.40780245,  0.41017068,  0.41258065,  0.4150336 ,\n",
       "        0.41753083,  0.42007368,  0.42266357,  0.42530196,  0.42799039,\n",
       "        0.43073045,  0.43352382,  0.43637225,  0.43927757,  0.44224171,\n",
       "        0.44526668,  0.44835458,  0.45150762,  0.45472814,  0.45801856,\n",
       "        0.46138147,  0.46481956,  0.46833567,  0.47193279,  0.4756141 ])"
      ]
     },
     "execution_count": 15,
     "metadata": {},
     "output_type": "execute_result"
    }
   ],
   "source": [
    "rge.Sol['bg1']"
   ]
  },
  {
   "cell_type": "code",
   "execution_count": 16,
   "metadata": {
    "collapsed": false
   },
   "outputs": [
    {
     "data": {
      "text/plain": [
       "<matplotlib.legend.Legend at 0x11377a990>"
      ]
     },
     "execution_count": 16,
     "metadata": {},
     "output_type": "execute_result"
    },
    {
     "data": {
      "image/png": "[encoded data removed]",
      "text/plain": [
       "<matplotlib.figure.Figure at 0x11368d610>"
      ]
     },
     "metadata": {},
     "output_type": "display_data"
    }
   ],
   "source": [
    "plot(rge.Sol['t'],rge.Sol['bg1']**-2*np.sqrt(3/5.)**2,'k',label=r'$\\alpha_1^{-1}$')\n",
    "plot(rge.Sol['t'],rge.Sol['bg_SU2']**-2,'b',label=r'$\\alpha_2^{-1}$')\n",
    "plot(rge.Sol['t'],rge.Sol['bg_SU3']**-2,'r',label=r'$\\alpha_3^{-1}$')\n",
    "grid(True)\n",
    "xlabel('$t=\\log_{10}(Q\\ \\mathrm{GeV})$')\n",
    "ylabel('Running in the SM')\n",
    "title('Running of the gauge couplings in the SM obtained from PyR@TE')\n",
    "legend(loc=4,ncol=3)"
   ]
  },
  {
   "cell_type": "code",
   "execution_count": 17,
   "metadata": {
    "collapsed": false
   },
   "outputs": [],
   "source": [
    "#we can also have non diagonal terms in the Yukawas by setting the option 'diag' to False in the assumption dictionary\n",
    "Y0[1] = 0.3\n",
    "rge.solve_rges(tmin,tmax,tstep,assumptions={'two-loop': False,'diag':False})#Assumptions is here for customize purposes, see BetaFunction_SolveRGEs.py "
   ]
  },
  {
   "cell_type": "code",
   "execution_count": 18,
   "metadata": {
    "collapsed": false
   },
   "outputs": [
    {
     "data": {
      "image/png": "[encoded data removed]",
      "text/plain": [
       "<matplotlib.figure.Figure at 0x11368dc10>"
      ]
     },
     "metadata": {},
     "output_type": "display_data"
    }
   ],
   "source": [
    "plot(rge.Sol['t'],rge.Solint['betaYu[0,1]'](rge.Sol['t']),label=r'$Y_u[0,1]$')\n",
    "xlabel('$t=\\log_{10}(Q\\ \\mathrm{GeV})$')\n",
    "ylabel('Yu[0,1] in the SM')\n",
    "title('Running of the non diagonal term Yu[0,1] in the SM obtained from PyR@TE\\n\\n')\n",
    "legend(loc=1)\n",
    "grid(True)"
   ]
  }
 ],
 "metadata": {
  "hide_input": false,
  "kernelspec": {
   "display_name": "Python 2",
   "language": "python",
   "name": "python2"
  },
  "language_info": {
   "codemirror_mode": {
    "name": "ipython",
    "version": 2
   },
   "file_extension": ".py",
   "mimetype": "text/x-python",
   "name": "python",
   "nbconvert_exporter": "python",
   "pygments_lexer": "ipython2",
   "version": "2.7.11"
  }
 },
 "nbformat": 4,
 "nbformat_minor": 0
}
