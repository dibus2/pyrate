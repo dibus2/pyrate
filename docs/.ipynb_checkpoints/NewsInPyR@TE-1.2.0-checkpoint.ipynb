{
 "metadata": {
  "name": "",
  "signature": "sha256:21da7fab577e4c3ca46aec10a2d6d929c1bd1764c9748e522fa6b52dff5649fb"
 },
 "nbformat": 3,
 "nbformat_minor": 0,
 "worksheets": [
  {
   "cells": [
    {
     "cell_type": "markdown",
     "metadata": {},
     "source": [
      "<img id=\"pyrateLogo\" src='pyrate_logo_flo_light.svg'>\n",
      "\n",
      "------\n",
      "\n",
      "# PyR@TE v1.2.0\n",
      "##Release Notes\n",
      "\n",
      "This document aims at describing the new features of PyR@TEv1.2.0 In particular it explains the new capabilities regarding its ability to handle terms that can lead to __several gauge singlets__. The first section is dedicated to the presentation of the issue, the second deals with the changes brought to PyR@TE in order to deal with such cases and finally, the last section shows how this applies to a concrete example namely the effective potential of the TypeII Seesaw model.\n",
      "\n",
      "###1. Multiple Gauge Singlets\n",
      "\n",
      "The different terms entering a given Lagrangin, $\\mathcal{L}$ in PyR@TE are given by a python *dictionary* under the following form\n",
      "> '\\lambda_1': {Fields: [F1,F2,F3,F4], Norm: 1/2}.\n",
      "\n",
      "Note that since v1.1.5 it is also possible to have a sum of terms as in \n",
      "\n",
      "> '\\lambda_2': {Fields: [[F1,F2\\*,F1\\*,F2\\*],[F2,F1,F2,F1\\*]], Norm: [1,1/2]}, \n",
      "\n",
      "such an example will be shown later on.\n",
      "\n",
      "In PyR@TE, each complex scalar field is expended into its real and complex component and then written as a gauge singlet i.e. \n",
      "\n",
      "> $\\mathcal{L} \\supset \\lambda F_1^i F_2^j F_3^k F_4^l C_{ijkl}$,\n",
      "\n",
      "where for simplicity we assume that the $F$ fields are charged under a single gauge group. $C_{ijkl}$ are the so called Clebsh-Gordon coefficients (CGCs). In PyR@TE we rely on a database constructed from the *Mathematica* package <a href =http://web.ist.utl.pt/renato.fonseca/susyno.html target=_blank>__Susyno__</a>.\n",
      "\n",
      "Until now, we assumed that only one such $C_{ijkl}$ exist for each term in the Lagrangian. However, as the dimension of the *irreducible representations (irreps)* involved in the Lagrangian or the number of fields increases one is likely to end up in the situation where there exist several ways to contract the indices of $F_1,F_2,F_3,F_4$ into a gauge singlet. For instance if one considers __complex triplets__ of $\\mathrm{SU}(2)$, we generally find in the literature the following two terms:\n",
      "\n",
      "> $\\lambda_1 \\mathrm{Tr}\\left[\\Delta^\\dagger\\Delta\\Delta^\\dagger\\Delta\\right]$ and $\\lambda_2 \\mathrm{Tr}\\left[\\Delta^\\dagger\\Delta\\right]\\mathrm{Tr}\\left[\\Delta^\\dagger\\Delta\\right]$,\n",
      "\n",
      "where $\\Delta$ is a $2\\times2$ matrix representation of the triplet in some basis. This case is therefore clearly not covered by the previous versions of PyR@TE and we now explain how to implement such terms in the new version.\n",
      "\n",
      "\n",
      "###2. 'CGCs' key in PyR@TE v1.2.0 and the interactive database querrying\n",
      "\n",
      "In order to be able to implement such terms in PyR@TE a new *keyword* (key to the dictionary) has been introduced through which it is now possible to specify which CGCs to use for a given term. In the above generic example one could therefore specify something along the following lines: \n",
      "\n",
      "> '\\lambda_1': {Fields: [F1,F2,F3,F4], Norm: 1/2, CGCs: [1]},\n",
      "\n",
      "or for a sum of terms\n",
      "\n",
      "> '\\lambda_2': {Fields: [[F1,F2\\*,F1\\*,F2\\*],[F2,F1,F2,F1\\*]], Norm: [1,1/2], CGCs: [1,2]}.\n",
      "\n",
      "Because there are many different ways to write a given invariant the user must take special care that the term he is interested in really matches what is implemented in PyR@TE. More specifically, one has to make sure that the invariants are the same and the normalization of the CGCs identical. What is precisely meant here will become clear when presenting the example of the TypeII seesaw model. \n",
      "\n",
      "In order to achieve this task the user must be able to probe PyR@TE database and check what is the exact expression for the CGCs which is implemented for a given invariant. To do so, we have implemented a *command line mode* allowing the user to explore PyR@TE's database.\n",
      "\n",
      "####2.1 '-idb' option\n",
      "\n",
      "To start this mode the user simply needs to start PyR@TE with the '-idb' option as follows:\n",
      " \n",
      "> `python pyR@TE -idb`\n",
      "\n",
      "or from a notebook as usual\n",
      "\n",
      "> `%run pyR@TE -idb`.\n",
      "\n",
      "Then any of the following keywords and corresponding syntax can be used to probe the database: \n",
      "\n",
      "`Casimir group irrep\n",
      "AdjR group\n",
      "Dynkin group irrep\n",
      "FondR group\n",
      "GetDynk group dimirrep\n",
      "DimR group irrep\n",
      "Invariants group irreps\n",
      "Matrices group irrep`\n",
      "\n",
      "where *irrep(s)* refer to a Dynkin label(s).\n",
      "\n"
     ]
    },
    {
     "cell_type": "code",
     "collapsed": false,
     "input": [
      "%cd .."
     ],
     "language": "python",
     "metadata": {},
     "outputs": [
      {
       "output_type": "stream",
       "stream": "stdout",
       "text": [
        "/Users/florian/Documents/work/Projects/Pyrate/git/pyrate\n"
       ]
      }
     ],
     "prompt_number": 1
    },
    {
     "cell_type": "code",
     "collapsed": false,
     "input": [
      "%run pyR@TE.py -idb"
     ],
     "language": "python",
     "metadata": {},
     "outputs": [
      {
       "output_type": "stream",
       "stream": "stdout",
       "text": [
        "\n",
        "\n",
        "\n",
        "\n",
        "\t\t==================================================================================\n",
        "\n",
        "\t\t\t\tPyR@TE version 1.2.2_beta released November 11th, 2015\n",
        "\n",
        "\t\t\tF. Lyonnet, I. Schienbein, F.Staub, A.Wingerter, arxiv 1309.7030\n",
        "\t\t==================================================================================\n",
        "\n",
        "\n",
        "=========================================================================================================\n",
        "\t\t Interactive PyR@TE: mode to querry the database.\n",
        "\t\t The database is built on Susyno v3.4 November 6th.\n",
        "\t\t IMPORTANT: All the results are therefore bounded by the implicit definitions of Susyno\n",
        "\t\t to which we refer the user for further information. \n",
        "\t\t Florian Lyonnet: flyonnet@smu.edu 2015\n",
        "=========================================================================================================\n"
       ]
      },
      {
       "output_type": "stream",
       "stream": "stdout",
       "text": [
        "\n",
        "loading database of CGCs...\n",
        "db version: August 22 2013"
       ]
      },
      {
       "output_type": "stream",
       "stream": "stdout",
       "text": [
        "\n",
        "done!\n"
       ]
      },
      {
       "name": "stdout",
       "output_type": "stream",
       "stream": "stdout",
       "text": [
        "Query: Casimir SU2 [2]\n"
       ]
      },
      {
       "output_type": "stream",
       "stream": "stdout",
       "text": [
        "2\n"
       ]
      },
      {
       "name": "stdout",
       "output_type": "stream",
       "stream": "stdout",
       "text": [
        "Query: AdjR SU4\n"
       ]
      },
      {
       "output_type": "stream",
       "stream": "stdout",
       "text": [
        "[1, 0, 1]\n"
       ]
      },
      {
       "name": "stdout",
       "output_type": "stream",
       "stream": "stdout",
       "text": [
        "Query: Dynkin SU3 [1,0]\n"
       ]
      },
      {
       "output_type": "stream",
       "stream": "stdout",
       "text": [
        "1/2\n"
       ]
      },
      {
       "name": "stdout",
       "output_type": "stream",
       "stream": "stdout",
       "text": [
        "Query:  FondR SU5\n"
       ]
      },
      {
       "output_type": "stream",
       "stream": "stdout",
       "text": [
        "[1, 0, 0, 0]\n"
       ]
      },
      {
       "name": "stdout",
       "output_type": "stream",
       "stream": "stdout",
       "text": [
        "Query: GetDynk SU2 [2,True]\n"
       ]
      },
      {
       "output_type": "stream",
       "stream": "stdout",
       "text": [
        "The second argument must be an integer representing the dimension of the irrep\n"
       ]
      },
      {
       "name": "stdout",
       "output_type": "stream",
       "stream": "stdout",
       "text": [
        "Query: GetDynk SU2 2\n"
       ]
      },
      {
       "output_type": "stream",
       "stream": "stdout",
       "text": [
        "[1]\n"
       ]
      },
      {
       "name": "stdout",
       "output_type": "stream",
       "stream": "stdout",
       "text": [
        "Query: DimR SU3 [1,0]\n"
       ]
      },
      {
       "output_type": "stream",
       "stream": "stdout",
       "text": [
        "3\n"
       ]
      },
      {
       "name": "stdout",
       "output_type": "stream",
       "stream": "stdout",
       "text": [
        "Query: exit\n"
       ]
      },
      {
       "ename": "SystemExit",
       "evalue": "Exiting the interactive mode.",
       "output_type": "pyerr",
       "traceback": [
        "An exception has occurred, use %tb to see the full traceback.\n",
        "\u001b[0;31mSystemExit\u001b[0m\u001b[0;31m:\u001b[0m Exiting the interactive mode.\n"
       ]
      }
     ],
     "prompt_number": 2
    },
    {
     "cell_type": "markdown",
     "metadata": {},
     "source": [
      "###3. The TypeII seesaw model inspired\n",
      "\n",
      "In this last section we show how to implement a toy TypeII seesaw model. \n",
      "\n",
      "####3.1 Fields, Potential\n",
      "\n",
      "In the model we consider here we have the following scalar particle content charged under $\\mathrm{SU}(3)\\times\\mathrm{SU}(2)\\times\\mathrm{U}(1)$: \n",
      "\n",
      "* $H\\sim(\\boldsymbol{1},\\boldsymbol{2},\\boldsymbol{1/2})$,\n",
      "* $T\\sim(\\boldsymbol{1},\\boldsymbol{3},\\boldsymbol{1})$,\n",
      "\n",
      "and the following scalar potential\n",
      "\n",
      "> $\\mathcal{V} = \\lambda_1 H^\\dagger H H^\\dagger H + \\lambda_{2} \\mathrm{Tr}\\left[\\Delta^\\dagger \\Delta \\right]H^\\dagger H + \n",
      "\\lambda_3 H^\\dagger \\Delta \\Delta^\\dagger H + \\lambda_{\\Delta 1} \\mathrm{Tr}\\left[\\Delta^\\dagger \\Delta\\right]\\mathrm{Tr}\\left[\\Delta^\\dagger\\Delta\\right] + \\lambda_{\\Delta 2} \\mathrm{Tr}\\left[\\Delta^\\dagger\\Delta \\Delta^\\dagger \\Delta\\right]$,\n",
      "\n",
      "in which we have writen the vector triplet $T= (\\Delta^{++},\\Delta^{+},\\Delta^{0})$ as a matrix\n",
      "\n",
      "\n",
      "> $\\Delta =\\left(\\begin{array}{cc}\\frac{\\Delta^+}{\\sqrt{2}}&\\Delta^{++}\\\\ \\Delta^0 & -\\frac{\\Delta^+}{\\sqrt{2}}\\end{array}\\right)$.\n",
      "\n",
      "This implies that $(\\Delta^{++},\\Delta^{+},\\Delta^{0})$ transforms under SU(2) according to the following matrices:\n",
      "\n",
      "> $\\left(\\begin{array}{ccc}0&-\\frac{1}{\\sqrt{2}}&0\\\\-\\frac{1}{\\sqrt{2}}&0&\\frac{1}{\\sqrt{2}}\\\\0&\\frac{1}{\\sqrt{2}}&0\\end{array}\\right),\n",
      "\\left(\\begin{array}{ccc}0&\\frac{I}{\\sqrt{2}}&0\\\\-\\frac{I}{\\sqrt{2}}&0&-\\frac{I}{\\sqrt{2}}\\\\0&\\frac{I}{\\sqrt{2}}&0\\end{array}\\right),\n",
      "\\left(\\begin{array}{ccc}1&0&0\\\\0&0&0\\\\0&0&-1\\end{array}\\right)$.\n",
      "\n",
      "However the matrices used in PyR@TE are slightly different as can be checked directly:"
     ]
    },
    {
     "cell_type": "markdown",
     "metadata": {},
     "source": [
      "Note that the matrices are sparse matrices and only non-zero components are returned."
     ]
    },
    {
     "cell_type": "code",
     "collapsed": false,
     "input": [
      "%run pyR@TE.py -idb"
     ],
     "language": "python",
     "metadata": {},
     "outputs": [
      {
       "output_type": "stream",
       "stream": "stdout",
       "text": [
        "\n",
        "\n",
        "\n",
        "\n",
        "\t\t==================================================================================\n",
        "\n",
        "\t\t\t\tPyR@TE version 1.2.2_beta released November 11th, 2015\n",
        "\n",
        "\t\t\tF. Lyonnet, I. Schienbein, F.Staub, A.Wingerter, arxiv 1309.7030\n",
        "\t\t==================================================================================\n",
        "\n",
        "\n",
        "=========================================================================================================\n",
        "\t\t Interactive PyR@TE: mode to querry the database.\n",
        "\t\t The database is built on Susyno v3.4 November 6th.\n",
        "\t\t IMPORTANT: All the results are therefore bounded by the implicit definitions of Susyno\n",
        "\t\t to which we refer the user for further information. \n",
        "\t\t Florian Lyonnet: flyonnet@smu.edu 2015\n",
        "=========================================================================================================\n",
        "\n",
        "loading database of CGCs...\n",
        "db version: August 22 2013"
       ]
      },
      {
       "output_type": "stream",
       "stream": "stdout",
       "text": [
        "\n",
        "done!\n"
       ]
      },
      {
       "name": "stdout",
       "output_type": "stream",
       "stream": "stdout",
       "text": [
        "Query: Matrices SU2 [2]\n"
       ]
      },
      {
       "output_type": "stream",
       "stream": "stdout",
       "text": [
        "Sparse matrices, showing non zero components:\n",
        "\n",
        "(((0, 1, sqrt(2)/2), (1, 0, sqrt(2)/2), (1, 2, sqrt(2)/2), (2, 1, sqrt(2)/2)), ((0, 1, -sqrt(2)*I/2), (1, 0, sqrt(2)*I/2), (1, 2, -sqrt(2)*I/2), (2, 1, sqrt(2)*I/2)), ((0, 0, 1), (2, 2, -1)))\n"
       ]
      },
      {
       "name": "stdout",
       "output_type": "stream",
       "stream": "stdout",
       "text": [
        "Query: exit\n"
       ]
      },
      {
       "ename": "SystemExit",
       "evalue": "Exiting the interactive mode.",
       "output_type": "pyerr",
       "traceback": [
        "An exception has occurred, use %tb to see the full traceback.\n",
        "\u001b[0;31mSystemExit\u001b[0m\u001b[0;31m:\u001b[0m Exiting the interactive mode.\n"
       ]
      }
     ],
     "prompt_number": 3
    },
    {
     "cell_type": "code",
     "collapsed": false,
     "input": [
      "import sys\n",
      "sys.path.append('../../sympy-0.7.6/')"
     ],
     "language": "python",
     "metadata": {},
     "outputs": [],
     "prompt_number": 4
    },
    {
     "cell_type": "code",
     "collapsed": false,
     "input": [
      "sys.path = sys.path[::-1]"
     ],
     "language": "python",
     "metadata": {},
     "outputs": [],
     "prompt_number": 5
    },
    {
     "cell_type": "code",
     "collapsed": false,
     "input": [
      "from sympy import *\n",
      "from sympy import init_printing\n",
      "init_printing(use_latex=True)"
     ],
     "language": "python",
     "metadata": {},
     "outputs": [],
     "prompt_number": 6
    },
    {
     "cell_type": "code",
     "collapsed": false,
     "input": [
      "#Susyno matrices\n",
      "Susyno3 = [Matrix([[0, sqrt(2)/2, 0],[sqrt(2)/2,0, sqrt(2)/2],[ 0, sqrt(2)/2,  0]]),\n",
      "           Matrix([[0, -sqrt(2)*I/2,0],[sqrt(2)*I/2,0, -sqrt(2)*I/2],[0,sqrt(2)*I/2,0]]),\n",
      "           Matrix([[1, 0,  0],[0, 0,  0],[0, 0, -1]])]\n",
      "#Matrices used for (deltapp,deltap,delta0)\n",
      "Pauli3=[Matrix([[0,-sqrt(2)/2,0],[-sqrt(2)/2,0,sqrt(2)/2],[0,sqrt(2)/2,0]]),\n",
      "        Matrix([[0,sqrt(2)*I/2,0],[-sqrt(2)*I/2,0,-sqrt(2)*I/2],[0,sqrt(2)*I/2,0]]),\n",
      "        Matrix([[1,0,0],[0,0,0],[0,0,-1]])]\n",
      "P = Matrix([[-1,0,0],[0,1,0],[0,0,1]])"
     ],
     "language": "python",
     "metadata": {},
     "outputs": [],
     "prompt_number": 7
    },
    {
     "cell_type": "markdown",
     "metadata": {},
     "source": [
      "The two sets of matrices are related to each other by the matrix $P$"
     ]
    },
    {
     "cell_type": "code",
     "collapsed": false,
     "input": [
      "[Susyno3[i]-P*Pauli3[i]*P for i in range(3)]"
     ],
     "language": "python",
     "metadata": {},
     "outputs": [
      {
       "latex": [
        "$$\\begin{bmatrix}\\left[\\begin{smallmatrix}0 & 0 & 0\\\\0 & 0 & 0\\\\0 & 0 & 0\\end{smallmatrix}\\right], & \\left[\\begin{smallmatrix}0 & 0 & 0\\\\0 & 0 & 0\\\\0 & 0 & 0\\end{smallmatrix}\\right], & \\left[\\begin{smallmatrix}0 & 0 & 0\\\\0 & 0 & 0\\\\0 & 0 & 0\\end{smallmatrix}\\right]\\end{bmatrix}$$"
       ],
       "metadata": {},
       "output_type": "pyout",
       "prompt_number": 9,
       "text": [
        "\u23a1\u23a10  0  0\u23a4, \u23a10  0  0\u23a4, \u23a10  0  0\u23a4\u23a4\n",
        "\u23a2\u23a2       \u23a5  \u23a2       \u23a5  \u23a2       \u23a5\u23a5\n",
        "\u23a2\u23a20  0  0\u23a5  \u23a20  0  0\u23a5  \u23a20  0  0\u23a5\u23a5\n",
        "\u23a2\u23a2       \u23a5  \u23a2       \u23a5  \u23a2       \u23a5\u23a5\n",
        "\u23a3\u23a30  0  0\u23a6  \u23a30  0  0\u23a6  \u23a30  0  0\u23a6\u23a6"
       ]
      }
     ],
     "prompt_number": 9
    },
    {
     "cell_type": "markdown",
     "metadata": {},
     "source": [
      "Which amounts to the redefinition $\\Delta^{++}\\rightarrow -\\Delta^{++}$"
     ]
    },
    {
     "cell_type": "code",
     "collapsed": false,
     "input": [
      "P*Matrix([Symbol('Delta^{++}'),Symbol('Delta^+'),Symbol('Delta^0')])"
     ],
     "language": "python",
     "metadata": {},
     "outputs": [
      {
       "latex": [
        "$$\\left[\\begin{smallmatrix}- \\Delta^{{++}}\\\\\\Delta^{+}\\\\\\Delta^{0}\\end{smallmatrix}\\right]$$"
       ],
       "metadata": {},
       "output_type": "pyout",
       "png": "[encoded data removed]",
       "prompt_number": 10,
       "text": [
        "\u23a1-Delta^{++}\u23a4\n",
        "\u23a2           \u23a5\n",
        "\u23a2    \u0394\u207a     \u23a5\n",
        "\u23a2           \u23a5\n",
        "\u23a3    \u0394\u2070     \u23a6"
       ]
      }
     ],
     "prompt_number": 10
    },
    {
     "cell_type": "markdown",
     "metadata": {},
     "source": [
      "Let's now have a look at the different CGCs involved in the above potential.\n",
      "\n",
      "####3.2 $\\mathrm{SU}(2)$ Gauge singlets\n",
      "\n",
      "\n",
      "#####3.2.1. $\\boldsymbol{2^*}\\times \\boldsymbol{2}\\times \\boldsymbol{2^*}\\times\\boldsymbol{2}$\n",
      "\n",
      "`Invariants SU2 [[2,True],[2],[2,True],[2]]`"
     ]
    },
    {
     "cell_type": "code",
     "collapsed": false,
     "input": [
      "%run pyR@TE.py -idb"
     ],
     "language": "python",
     "metadata": {},
     "outputs": [
      {
       "output_type": "stream",
       "stream": "stdout",
       "text": [
        "\n",
        "\n",
        "\n",
        "\n",
        "\t\t==================================================================================\n",
        "\n",
        "\t\t\t\tPyR@TE version 1.2.2_beta released November 11th, 2015\n",
        "\n",
        "\t\t\tF. Lyonnet, I. Schienbein, F.Staub, A.Wingerter, arxiv 1309.7030\n",
        "\t\t==================================================================================\n",
        "\n",
        "\n",
        "=========================================================================================================\n",
        "\t\t Interactive PyR@TE: mode to querry the database.\n",
        "\t\t The database is built on Susyno v3.4 November 6th.\n",
        "\t\t IMPORTANT: All the results are therefore bounded by the implicit definitions of Susyno\n",
        "\t\t to which we refer the user for further information. \n",
        "\t\t Florian Lyonnet: flyonnet@smu.edu 2015\n",
        "=========================================================================================================\n",
        "\n",
        "loading database of CGCs...\n",
        "db version: August 22 2013"
       ]
      },
      {
       "output_type": "stream",
       "stream": "stdout",
       "text": [
        "\n",
        "done!\n"
       ]
      },
      {
       "name": "stdout",
       "output_type": "stream",
       "stream": "stdout",
       "text": [
        "Query: Invariants SU2 [[1,True],[1],[1,True],[1]]\n"
       ]
      },
      {
       "output_type": "stream",
       "stream": "stdout",
       "text": [
        "1 invariant:\n",
        "\ta[1]*b[1]*c[1]*d[1] + a[1]*b[1]*c[2]*d[2] + a[2]*b[2]*c[1]*d[1] + a[2]*b[2]*c[2]*d[2]\n",
        "\n",
        "2 invariant:\n",
        "\ta[1]*b[1]*c[1]*d[1] - a[1]*b[1]*c[2]*d[2] + 2*a[1]*b[2]*c[2]*d[1] + 2*a[2]*b[1]*c[1]*d[2] - a[2]*b[2]*c[1]*d[1] + a[2]*b[2]*c[2]*d[2]\n",
        "\n",
        "\n"
       ]
      },
      {
       "name": "stdout",
       "output_type": "stream",
       "stream": "stdout",
       "text": [
        "Query: exit\n"
       ]
      },
      {
       "ename": "SystemExit",
       "evalue": "Exiting the interactive mode.",
       "output_type": "pyerr",
       "traceback": [
        "An exception has occurred, use %tb to see the full traceback.\n",
        "\u001b[0;31mSystemExit\u001b[0m\u001b[0;31m:\u001b[0m Exiting the interactive mode.\n"
       ]
      }
     ],
     "prompt_number": 11
    },
    {
     "cell_type": "markdown",
     "metadata": {},
     "source": [
      "so we see that in general there are two ways of contracting 4 different fields transforming as a $\\boldsymbol{2}$ of $\\mathrm{SU}(2)$ into a gauge singlet. However, it is clear that the contraction corresponding to the vector multiplication, $H^\\dagger H=H_i H_j \\delta_{ij}$ is the first one.\n",
      "\n",
      "* The first term would then be entered in PyR@TE as \n",
      "\n",
      "> '\\lambda_1: {Fields: [H\\*,H,H\\*,H], CGCs: {SU2L: 1}, Norm: 1}\n",
      "\n",
      "##### 3.2.2. $\\boldsymbol{3^*}\\times \\boldsymbol{3}\\times \\boldsymbol{3^*}\\times \\boldsymbol{3}$ of $\\mathrm{SU}(2)$\n",
      "\n",
      "`Invariants SU2 [[2,True],[2],[2,True],[2]]`"
     ]
    },
    {
     "cell_type": "code",
     "collapsed": false,
     "input": [
      "%run pyR@TE.py -idb"
     ],
     "language": "python",
     "metadata": {},
     "outputs": [
      {
       "output_type": "stream",
       "stream": "stdout",
       "text": [
        "\n",
        "\n",
        "\n",
        "\n",
        "\t\t==================================================================================\n",
        "\n",
        "\t\t\t\tPyR@TE version 1.2.2_beta released November 11th, 2015\n",
        "\n",
        "\t\t\tF. Lyonnet, I. Schienbein, F.Staub, A.Wingerter, arxiv 1309.7030\n",
        "\t\t==================================================================================\n",
        "\n",
        "\n",
        "=========================================================================================================\n",
        "\t\t Interactive PyR@TE: mode to querry the database.\n",
        "\t\t The database is built on Susyno v3.4 November 6th.\n",
        "\t\t IMPORTANT: All the results are therefore bounded by the implicit definitions of Susyno\n",
        "\t\t to which we refer the user for further information. \n",
        "\t\t Florian Lyonnet: flyonnet@smu.edu 2015\n",
        "=========================================================================================================\n",
        "\n",
        "loading database of CGCs...\n",
        "db version: August 22 2013"
       ]
      },
      {
       "output_type": "stream",
       "stream": "stdout",
       "text": [
        "\n",
        "done!\n"
       ]
      },
      {
       "name": "stdout",
       "output_type": "stream",
       "stream": "stdout",
       "text": [
        "Query: Invariants SU2 [[2,True],[2],[2,True],[2]]\n"
       ]
      },
      {
       "output_type": "stream",
       "stream": "stdout",
       "text": [
        "1 invariant:\n",
        "\ta[1]*b[1]*c[1]*d[1] + a[1]*b[1]*c[2]*d[2]/2 + a[1]*b[1]*c[3]*d[3] + a[1]*b[2]*c[2]*d[1]/2 - a[1]*b[2]*c[3]*d[2]/2 + a[1]*b[3]*c[3]*d[1] + a[2]*b[1]*c[1]*d[2]/2 - a[2]*b[1]*c[2]*d[3]/2 + a[2]*b[2]*c[1]*d[1]/2 + 3*a[2]*b[2]*c[2]*d[2]/2 + a[2]*b[2]*c[3]*d[3]/2 - a[2]*b[3]*c[2]*d[1]/2 + a[2]*b[3]*c[3]*d[2]/2 + a[3]*b[1]*c[1]*d[3] - a[3]*b[2]*c[1]*d[2]/2 + a[3]*b[2]*c[2]*d[3]/2 + a[3]*b[3]*c[1]*d[1] + a[3]*b[3]*c[2]*d[2]/2 + a[3]*b[3]*c[3]*d[3]\n",
        "\n",
        "2 invariant:\n",
        "\ta[1]*b[1]*c[1]*d[1] + a[1]*b[1]*c[2]*d[2]/2 - a[1]*b[1]*c[3]*d[3]/2 + a[1]*b[2]*c[2]*d[1]/2 + a[1]*b[2]*c[3]*d[2] - a[1]*b[3]*c[3]*d[1]/2 + a[2]*b[1]*c[1]*d[2]/2 + a[2]*b[1]*c[2]*d[3] + a[2]*b[2]*c[1]*d[1]/2 + a[2]*b[2]*c[3]*d[3]/2 + a[2]*b[3]*c[2]*d[1] + a[2]*b[3]*c[3]*d[2]/2 - a[3]*b[1]*c[1]*d[3]/2 + a[3]*b[2]*c[1]*d[2] + a[3]*b[2]*c[2]*d[3]/2 - a[3]*b[3]*c[1]*d[1]/2 + a[3]*b[3]*c[2]*d[2]/2 + a[3]*b[3]*c[3]*d[3]\n",
        "\n",
        "3 invariant:\n",
        "\ta[1]*b[1]*c[2]*d[2] + a[1]*b[1]*c[3]*d[3] - a[1]*b[2]*c[2]*d[1] - a[1]*b[3]*c[3]*d[1] - a[2]*b[1]*c[1]*d[2] + a[2]*b[2]*c[1]*d[1] + a[2]*b[2]*c[3]*d[3] - a[2]*b[3]*c[3]*d[2] - a[3]*b[1]*c[1]*d[3] - a[3]*b[2]*c[2]*d[3] + a[3]*b[3]*c[1]*d[1] + a[3]*b[3]*c[2]*d[2]\n",
        "\n",
        "\n"
       ]
      },
      {
       "name": "stdout",
       "output_type": "stream",
       "stream": "stdout",
       "text": [
        "Query: exit\n"
       ]
      },
      {
       "ename": "SystemExit",
       "evalue": "Exiting the interactive mode.",
       "output_type": "pyerr",
       "traceback": [
        "An exception has occurred, use %tb to see the full traceback.\n",
        "\u001b[0;31mSystemExit\u001b[0m\u001b[0;31m:\u001b[0m Exiting the interactive mode.\n"
       ]
      }
     ],
     "prompt_number": 12
    },
    {
     "cell_type": "markdown",
     "metadata": {},
     "source": [
      "Here we have in general three invariants. Now, while it was obvious in the case of the doublets to find which term the vector multiplication corresponds to, we have to do a bit more work in this case."
     ]
    },
    {
     "cell_type": "code",
     "collapsed": false,
     "input": [
      "import sys\n",
      "sys.path.append('../../../sympy-0.7.6/')"
     ],
     "language": "python",
     "metadata": {},
     "outputs": [],
     "prompt_number": 1
    },
    {
     "cell_type": "code",
     "collapsed": false,
     "input": [
      "sys.path=sys.path[::-1]"
     ],
     "language": "python",
     "metadata": {},
     "outputs": [],
     "prompt_number": 3
    },
    {
     "cell_type": "code",
     "collapsed": false,
     "input": [
      "#Let's import sympy for algebraic manipulation (here 0.7.6)\n",
      "from sympy import *\n",
      "from sympy import init_printing\n",
      "init_printing(use_latex=True)\n",
      "a,b,c,d,Pi,Sig = map(IndexedBase,['a','b', 'c', 'd','Pi','Sigma'])\n",
      "p = Wild('p')"
     ],
     "language": "python",
     "metadata": {},
     "outputs": [],
     "prompt_number": 4
    },
    {
     "cell_type": "code",
     "collapsed": false,
     "input": [
      "invs = [inv1,inv2,inv3] = [a[1]*b[1]*c[1]*d[1] + a[1]*b[1]*c[2]*d[2]/2 + a[1]*b[1]*c[3]*d[3] + a[1]*b[2]*c[2]*d[1]/2 - a[1]*b[2]*c[3]*d[2]/2 + a[1]*b[3]*c[3]*d[1] + a[2]*b[1]*c[1]*d[2]/2 - a[2]*b[1]*c[2]*d[3]/2 + a[2]*b[2]*c[1]*d[1]/2 + 3*a[2]*b[2]*c[2]*d[2]/2 + a[2]*b[2]*c[3]*d[3]/2 - a[2]*b[3]*c[2]*d[1]/2 + a[2]*b[3]*c[3]*d[2]/2 + a[3]*b[1]*c[1]*d[3] - a[3]*b[2]*c[1]*d[2]/2 + a[3]*b[2]*c[2]*d[3]/2 + a[3]*b[3]*c[1]*d[1] + a[3]*b[3]*c[2]*d[2]/2 + a[3]*b[3]*c[3]*d[3],a[1]*b[1]*c[1]*d[1] + a[1]*b[1]*c[2]*d[2]/2 - a[1]*b[1]*c[3]*d[3]/2 + a[1]*b[2]*c[2]*d[1]/2 + a[1]*b[2]*c[3]*d[2] - a[1]*b[3]*c[3]*d[1]/2 + a[2]*b[1]*c[1]*d[2]/2 + a[2]*b[1]*c[2]*d[3] + a[2]*b[2]*c[1]*d[1]/2 + a[2]*b[2]*c[3]*d[3]/2 + a[2]*b[3]*c[2]*d[1] + a[2]*b[3]*c[3]*d[2]/2 - a[3]*b[1]*c[1]*d[3]/2 + a[3]*b[2]*c[1]*d[2] + a[3]*b[2]*c[2]*d[3]/2 - a[3]*b[3]*c[1]*d[1]/2 + a[3]*b[3]*c[2]*d[2]/2 + a[3]*b[3]*c[3]*d[3],a[1]*b[1]*c[2]*d[2] + a[1]*b[1]*c[3]*d[3] - a[1]*b[2]*c[2]*d[1] - a[1]*b[3]*c[3]*d[1] - a[2]*b[1]*c[1]*d[2] + a[2]*b[2]*c[1]*d[1] + a[2]*b[2]*c[3]*d[3] - a[2]*b[3]*c[3]*d[2] - a[3]*b[1]*c[1]*d[3] - a[3]*b[2]*c[2]*d[3] + a[3]*b[3]*c[1]*d[1] + a[3]*b[3]*c[2]*d[2]]"
     ],
     "language": "python",
     "metadata": {},
     "outputs": [],
     "prompt_number": 10
    },
    {
     "cell_type": "markdown",
     "metadata": {},
     "source": [
      "Let's substitute:\n",
      "* $a,c\\rightarrow \\Delta\\rightarrow \\frac{1}{\\sqrt{2}}(\\Pi + I\\Sigma)$,\n",
      "* $b,d\\rightarrow \\Delta^\\dagger\\rightarrow \\frac{1}{\\sqrt{2}}(\\Pi - I\\Sigma)$"
     ]
    },
    {
     "cell_type": "code",
     "collapsed": false,
     "input": [
      "invs = [el.subs(((a,c),(b,d))).replace(c[p],1/sqrt(2)*(Pi[p]+I*Sig[p])).replace(d[p],1/sqrt(2)*(Pi[p]-I*Sig[p])).expand() for el in invs]"
     ],
     "language": "python",
     "metadata": {},
     "outputs": [],
     "prompt_number": 11
    },
    {
     "cell_type": "markdown",
     "metadata": {},
     "source": [
      "We can now expand the invariants defined in the potential applying the following replacement rules:\n",
      "\n",
      "* $\\Delta = \\left(\\begin{array}{cc} \\frac{(\\Pi_2+ I \\Sigma_2)}{2} & - \\frac{\\Pi_1+I \\Sigma_1}{\\sqrt{2}}\\\\ \\frac{\\Pi_3+I \\Sigma_3}{\\sqrt{2}} & - \\frac{\\Pi_2 + I \\Sigma_2}{2}\\end{array}\\right)$, where we have expanded the triplets into real and complex components, e.g. $\\Delta^{++} \\rightarrow \\frac{1}{\\sqrt{2}}(\\Pi_1+I\\Sigma_1)$\n",
      "\n",
      "we can now look at $\\lambda_{\\Delta_4}$ and $\\lambda_9$"
     ]
    },
    {
     "cell_type": "code",
     "collapsed": false,
     "input": [
      "Delta = Matrix([[(Pi[2]+I*Sig[2])/2,-(Pi[1]+I*Sig[1])/sqrt(2)],[1/sqrt(2)*(Pi[3]+I*Sig[3]),-Rational(1,2)*(Pi[2]+I*Sig[2])]])\n",
      "Delta"
     ],
     "language": "python",
     "metadata": {},
     "outputs": [
      {
       "latex": [
        "$$\\left[\\begin{matrix}\\frac{\\Pi_{2}}{2} + \\frac{i \\Sigma_{2}}{2} & \\frac{\\sqrt{2}}{2} \\left(- \\Pi_{1} - i \\Sigma_{1}\\right)\\\\\\frac{\\sqrt{2}}{2} \\left(\\Pi_{3} + i \\Sigma_{3}\\right) & - \\frac{\\Pi_{2}}{2} - \\frac{i \\Sigma_{2}}{2}\\end{matrix}\\right]$$"
       ],
       "metadata": {},
       "output_type": "pyout",
       "png": "[encoded data removed]",
       "prompt_number": 12,
       "text": [
        "\u23a1                              ___                      \u23a4\n",
        "\u23a2    Pi[2]   \u2148\u22c5Sigma[2]      \u2572\u2571 2 \u22c5(-Pi[1] - \u2148\u22c5Sigma[1])\u23a5\n",
        "\u23a2    \u2500\u2500\u2500\u2500\u2500 + \u2500\u2500\u2500\u2500\u2500\u2500\u2500\u2500\u2500\u2500      \u2500\u2500\u2500\u2500\u2500\u2500\u2500\u2500\u2500\u2500\u2500\u2500\u2500\u2500\u2500\u2500\u2500\u2500\u2500\u2500\u2500\u2500\u2500\u2500\u2500\u2500\u2500\u23a5\n",
        "\u23a2      2         2                        2             \u23a5\n",
        "\u23a2                                                       \u23a5\n",
        "\u23a2  ___                                                  \u23a5\n",
        "\u23a2\u2572\u2571 2 \u22c5(Pi[3] + \u2148\u22c5Sigma[3])       Pi[2]   \u2148\u22c5Sigma[2]    \u23a5\n",
        "\u23a2\u2500\u2500\u2500\u2500\u2500\u2500\u2500\u2500\u2500\u2500\u2500\u2500\u2500\u2500\u2500\u2500\u2500\u2500\u2500\u2500\u2500\u2500\u2500\u2500\u2500\u2500     - \u2500\u2500\u2500\u2500\u2500 - \u2500\u2500\u2500\u2500\u2500\u2500\u2500\u2500\u2500\u2500    \u23a5\n",
        "\u23a3            2                      2         2         \u23a6"
       ]
      }
     ],
     "prompt_number": 12
    },
    {
     "cell_type": "markdown",
     "metadata": {},
     "source": [
      "These are our two couplings"
     ]
    },
    {
     "cell_type": "code",
     "collapsed": false,
     "input": [
      "lD2 = ((Delta.H*Delta*Delta.H*Delta).trace().replace(conjugate(p),p).expand())\n",
      "lD1 = ((Delta.H*Delta).trace()*(Delta.H*Delta).trace()).replace(conjugate(p),p).expand()"
     ],
     "language": "python",
     "metadata": {},
     "outputs": [],
     "prompt_number": 13
    },
    {
     "cell_type": "markdown",
     "metadata": {},
     "source": [
      "It is easy to convinced oneself that the relation between $\\lambda_{\\Delta 2}$ and `invs` is \n",
      "$\\frac{1}{3} (invs[0] + 2 invs[1])$."
     ]
    },
    {
     "cell_type": "code",
     "collapsed": false,
     "input": [
      "lD2-Rational(1,3)*(invs[0]+2*invs[1]).expand()"
     ],
     "language": "python",
     "metadata": {},
     "outputs": [
      {
       "latex": [
        "$$0$$"
       ],
       "metadata": {},
       "output_type": "pyout",
       "png": "[encoded data removed]",
       "prompt_number": 15,
       "text": [
        "0"
       ]
      }
     ],
     "prompt_number": 15
    },
    {
     "cell_type": "markdown",
     "metadata": {},
     "source": [
      "likewise for $\\lambda_{\\Delta 1}$:"
     ]
    },
    {
     "cell_type": "code",
     "collapsed": false,
     "input": [
      "lD1 - Rational(1,3)*(2*invs[0]+invs[1])"
     ],
     "language": "python",
     "metadata": {},
     "outputs": [
      {
       "latex": [
        "$$0$$"
       ],
       "metadata": {},
       "output_type": "pyout",
       "png": "[encoded data removed]",
       "prompt_number": 17,
       "text": [
        "0"
       ]
      }
     ],
     "prompt_number": 17
    },
    {
     "cell_type": "markdown",
     "metadata": {},
     "source": [
      "Of course the third invariant vanishes"
     ]
    },
    {
     "cell_type": "code",
     "collapsed": false,
     "input": [
      "invs[2]"
     ],
     "language": "python",
     "metadata": {},
     "outputs": [
      {
       "latex": [
        "$$0$$"
       ],
       "metadata": {},
       "output_type": "pyout",
       "png": "[encoded data removed]",
       "prompt_number": 18,
       "text": [
        "0"
       ]
      }
     ],
     "prompt_number": 18
    },
    {
     "cell_type": "markdown",
     "metadata": {},
     "source": [
      "Therefore, to implement $\\lambda_{\\Delta 4}$ and $\\lambda_9$, one has to implement the following in PyR@TE:\n",
      "\n",
      "> * '\\lambda_{\\Delta_2}': {Fields: [[T\\*,T,T\\*,T],[T\\*,T,T\\*,T]],CGCs: {SU2L: [1,2]} ,Norm: [1/3,2/3]}\n",
      "* 'lambda_{\\Delta_1}': {Fields: [[T,T\\*,T,T\\*],[T,T\\*,T,T\\*]] CGCs: {SU2L: [1,2]}, Norm: [2/3,1/3]}\n",
      "\n",
      "##### 3.2.3. $\\boldsymbol{2^*}\\times \\boldsymbol{3}\\times\\boldsymbol{3^*}\\times\\boldsymbol{2}$\n",
      "\n",
      "`Invariants SU2 [[1,True],[2],[2,True],[1]]`\n",
      "\n"
     ]
    },
    {
     "cell_type": "code",
     "collapsed": false,
     "input": [
      "%run pyR@TE.py -idb"
     ],
     "language": "python",
     "metadata": {},
     "outputs": [
      {
       "output_type": "stream",
       "stream": "stdout",
       "text": [
        "\n",
        "\n",
        "\n",
        "\n",
        "\t\t==================================================================================\n",
        "\n",
        "\t\t\t\tPyR@TE version 1.2.2_beta released November 11th, 2015\n",
        "\n",
        "\t\t\tF. Lyonnet, I. Schienbein, F.Staub, A.Wingerter, arxiv 1309.7030\n",
        "\t\t==================================================================================\n",
        "\n",
        "\n",
        "=========================================================================================================\n",
        "\t\t Interactive PyR@TE: mode to querry the database.\n",
        "\t\t The database is built on Susyno v3.4 November 6th.\n",
        "\t\t IMPORTANT: All the results are therefore bounded by the implicit definitions of Susyno\n",
        "\t\t to which we refer the user for further information. \n",
        "\t\t Florian Lyonnet: flyonnet@smu.edu 2015\n",
        "=========================================================================================================\n",
        "\n",
        "loading database of CGCs...\n",
        "db version: August 22 2013"
       ]
      },
      {
       "output_type": "stream",
       "stream": "stdout",
       "text": [
        "\n",
        "done!\n"
       ]
      },
      {
       "name": "stdout",
       "output_type": "stream",
       "stream": "stdout",
       "text": [
        "Query: Invariants SU2 [[1,True],[2],[2,True],[1]]\n"
       ]
      },
      {
       "output_type": "stream",
       "stream": "stdout",
       "text": [
        "1 invariant:\n",
        "\ta[1]*b[1]*c[1]*d[1] + a[1]*b[2]*c[2]*d[1] + a[1]*b[3]*c[3]*d[1] + a[2]*b[1]*c[1]*d[2] + a[2]*b[2]*c[2]*d[2] + a[2]*b[3]*c[3]*d[2]\n",
        "\n",
        "2 invariant:\n",
        "\ta[1]*b[1]*c[1]*d[1] + sqrt(2)*a[1]*b[1]*c[2]*d[2] + sqrt(2)*a[1]*b[2]*c[3]*d[2] - a[1]*b[3]*c[3]*d[1] - a[2]*b[1]*c[1]*d[2] + sqrt(2)*a[2]*b[2]*c[1]*d[1] + sqrt(2)*a[2]*b[3]*c[2]*d[1] + a[2]*b[3]*c[3]*d[2]\n",
        "\n",
        "\n"
       ]
      },
      {
       "name": "stdout",
       "output_type": "stream",
       "stream": "stdout",
       "text": [
        "Query: exit\n"
       ]
      },
      {
       "ename": "SystemExit",
       "evalue": "Exiting the interactive mode.",
       "output_type": "pyerr",
       "traceback": [
        "An exception has occurred, use %tb to see the full traceback.\n",
        "\u001b[0;31mSystemExit\u001b[0m\u001b[0;31m:\u001b[0m Exiting the interactive mode.\n"
       ]
      }
     ],
     "prompt_number": 21
    },
    {
     "cell_type": "code",
     "collapsed": false,
     "input": [
      "invs = (a[1]*b[1]*c[1]*d[1] + a[1]*b[2]*c[2]*d[1] + a[1]*b[3]*c[3]*d[1] + a[2]*b[1]*c[1]*d[2] + a[2]*b[2]*c[2]*d[2] + a[2]*b[3]*c[3]*d[2],a[1]*b[1]*c[1]*d[1] + sqrt(2)*a[1]*b[1]*c[2]*d[2] + sqrt(2)*a[1]*b[2]*c[3]*d[2] - a[1]*b[3]*c[3]*d[1] - a[2]*b[1]*c[1]*d[2] + sqrt(2)*a[2]*b[2]*c[1]*d[1] + sqrt(2)*a[2]*b[3]*c[2]*d[1] + a[2]*b[3]*c[3]*d[2]\n",
      ")\n",
      "invs = [el.subs(((a,c),(b,d))).replace(c[p],1/sqrt(2)*(Pi[p]+I*Sig[p])).replace(d[p],1/sqrt(2)*(Pi[p]-I*Sig[p])).expand() for el in invs]"
     ],
     "language": "python",
     "metadata": {},
     "outputs": [],
     "prompt_number": 22
    },
    {
     "cell_type": "code",
     "collapsed": false,
     "input": [
      "H = 1/sqrt(2)*Matrix([[Pi[1]+I*Sig[1]],[Pi[2]+I*Sig[2]]])"
     ],
     "language": "python",
     "metadata": {},
     "outputs": [],
     "prompt_number": 23
    },
    {
     "cell_type": "code",
     "collapsed": false,
     "input": [
      "l2 = ((Delta.H*Delta).trace()*(H.H*H).trace()).replace(conjugate(p),p).expand()\n",
      "l3 = (H.H*Delta*Delta.H*H).trace().replace(conjugate(p),p).expand()"
     ],
     "language": "python",
     "metadata": {},
     "outputs": [],
     "prompt_number": 24
    },
    {
     "cell_type": "code",
     "collapsed": false,
     "input": [
      "(l3-Rational(1,2)*(invs[0]+invs[1])).expand()"
     ],
     "language": "python",
     "metadata": {},
     "outputs": [
      {
       "latex": [
        "$$0$$"
       ],
       "metadata": {},
       "output_type": "pyout",
       "png": "[encoded data removed]",
       "prompt_number": 37,
       "text": [
        "0"
       ]
      }
     ],
     "prompt_number": 37
    },
    {
     "cell_type": "code",
     "collapsed": false,
     "input": [
      "(l2-invs[0]).expand()"
     ],
     "language": "python",
     "metadata": {},
     "outputs": [
      {
       "latex": [
        "$$0$$"
       ],
       "metadata": {},
       "output_type": "pyout",
       "png": "[encoded data removed]",
       "prompt_number": 45,
       "text": [
        "0"
       ]
      }
     ],
     "prompt_number": 45
    },
    {
     "cell_type": "markdown",
     "metadata": {},
     "source": [
      "We therefore obtain the last expression for the desired couplings: \n",
      "\n",
      "> * '\\lambda_2': {Fields: [H\\*,T,T\\*,H], CGCs; {SU2L: [1]}, Norm: 1}\n",
      "* '\\lambda_3': {Fields: [[H\\*,T,T\\*,H],[H\\*,T,T\\*,H]], CGCs: {SU2L: [1/2,1/2]}, Norm: 1},\n",
      "\n",
      "In this case it is easy to see that $\\lambda_{2}$ can also be obtained via the contraction \n",
      "`Invariants SU2 [[2,True],[2],[1,True],[1]]` via the following term, i.e.\n",
      "\n",
      "'\\lambda_2' : {Fields: [T\\*,T,H\\*,H], Norm: 1, CGCs: {SU2L: [1]}}\n",
      "\n",
      "To conclude we give below the full model file for the above potential.\n"
     ]
    },
    {
     "cell_type": "code",
     "collapsed": false,
     "input": [
      "%cat models/TypeIItoy.model"
     ],
     "language": "python",
     "metadata": {},
     "outputs": [
      {
       "output_type": "stream",
       "stream": "stdout",
       "text": [
        "# YAML 1.1\r\n",
        "---\r\n",
        "Author: Florian Lyonnet \r\n",
        "Date: 04.15.2015\r\n",
        "Name: TypeIIandaxion\r\n",
        "Groups: {'U1': U1, 'SU2L': SU2, 'SU3c': SU3}\r\n",
        "\r\n",
        "##############################\r\n",
        "#Fermions assumed weyl spinors\r\n",
        "##############################\r\n",
        "Fermions: {\r\n",
        "   Qbar: {Gen: 3, Qnb:{ U1: -1/6, SU2L: -2, SU3c: -3}},\r\n",
        "   L: {Gen: 3, Qnb:{ U1: -1/2, SU2L: 2, SU3c: 1}},\r\n",
        "   Lbar: {Gen: 3, Qnb:{ U1: 1/2, SU2L: -2, SU3c: 1}},\r\n",
        "   uR: {Gen: 3, Qnb:{ U1: 2/3, SU2L: 1, SU3c: [1,0]}},\r\n",
        "   dR: {Gen: 3, Qnb:{ U1: -1/3, SU2L: 1, SU3c: 3}},\r\n",
        "   eR: {Gen: 3, Qnb:{ U1: -1, SU2L: 1, SU3c: 1}}\r\n",
        "}\r\n",
        "\r\n",
        "#############\r\n",
        "#Real Scalars\r\n",
        "#############\r\n",
        "\r\n",
        "RealScalars: {\r\n",
        "}\r\n",
        "\r\n",
        "##########################################################################\r\n",
        "#Complex Scalars : have to be expressed in terms of Real Scalars see above\r\n",
        "##########################################################################\r\n",
        "\r\n",
        "CplxScalars: {\r\n",
        "  H: {RealFields: [Pi,I*Sigma], Norm: 1/Sqrt(2), Qnb : {U1: -1/2, SU2L: 2, SU3c: 1}},\r\n",
        "  H*: {RealFields: [Pi,-I*Sigma], Norm: 1/Sqrt(2), Qnb : {U1: 1/2, SU2L: -2, SU3c: 1}},\r\n",
        "  T : {RealFields: [T1,I*T2], Norm: 1/sqrt(2), Qnb: {U1: 1, SU2L : 3, SU3c: 1}},\r\n",
        "  T* : {RealFields: [T1,-I*T2], Norm: 1/sqrt(2), Qnb: {U1: -1, SU2L : -3, SU3c: 1}},\r\n",
        "}\r\n",
        "\r\n",
        "Potential: {\r\n",
        "\r\n",
        "#######################################\r\n",
        "# All particles must be defined above !\r\n",
        "#######################################\r\n",
        " \r\n",
        "Yukawas:{\r\n",
        " },\r\n",
        "\r\n",
        "QuarticTerms: {\r\n",
        " '\\lambda_1' : {Fields : [H*,H,H*,H], Norm : 1, CGCs:{SU2L: [1]}},\r\n",
        "#This coefficient can be obtained via several combinations \r\n",
        " '\\lambda_2' : {Fields: [H*,T,T*,H], Norm: 1, CGCs: {SU2L: [1]}},\r\n",
        "#'\\lambda_2' : {Fields: [T*,T,H*,H], Norm: 1, CGCs: {SU2L: [1]}},\r\n",
        " '\\lambda_3' : {Fields : [[H*,T,T*,H],[H*,T,T*,H]], Norm : [1/2,1/2], CGCs: {SU2L: [1,2]}},\r\n",
        " ##That's another one. Of course they lead to the same result.\r\n",
        " '\\lambda_{\\Delta_1}' : {Fields : [[T*,T,T*,T],[T*,T,T*,T]], Norm : [2/3,1/3],CGCs: {SU2L: [1,2]}},\r\n",
        " '\\lambda_{\\Delta_2}' : {Fields : [[T*,T,T*,T],[T*,T,T*,T]], Norm : [1/3,2/3], CGCs: {SU2L: [1,2]}},\r\n",
        " },\r\n",
        "ScalarMasses: {\r\n",
        " }\r\n",
        "}\r\n"
       ]
      }
     ],
     "prompt_number": 3
    },
    {
     "cell_type": "markdown",
     "metadata": {},
     "source": [
      "For any additional information, questions or feedbacks you can email me at _flyonnet[at]smu.edu_."
     ]
    }
   ],
   "metadata": {}
  }
 ]
}